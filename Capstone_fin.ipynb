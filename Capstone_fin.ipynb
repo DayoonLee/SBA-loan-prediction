{
  "nbformat": 4,
  "nbformat_minor": 0,
  "metadata": {
    "colab": {
      "name": "Capstone_fin_211008.ipynb",
      "provenance": [],
      "collapsed_sections": []
    },
    "kernelspec": {
      "display_name": "Python 3",
      "language": "python",
      "name": "python3"
    },
    "language_info": {
      "codemirror_mode": {
        "name": "ipython",
        "version": 3
      },
      "file_extension": ".py",
      "mimetype": "text/x-python",
      "name": "python",
      "nbconvert_exporter": "python",
      "pygments_lexer": "ipython3",
      "version": "3.8.3"
    }
  },
  "cells": [
    {
      "cell_type": "markdown",
      "metadata": {
        "id": "s388rZiXgq-l"
      },
      "source": [
        "### Table of Contents\n",
        "- [1. Import Data](#1)<br>\n",
        "- [2. Describe a Dataset](#2)<br>\n",
        "- [3. Data Cleaning](#3)<br>\n",
        "- [4. Modelling](#4)<br>\n",
        "  - [4-1. Logistic Regression](#5)<br>\n",
        "  - [4-2. Random Forests](#6)<br>\n",
        "  - [4-3. Random Forests with Oversampling](#7)<br>\n",
        "  - [4-4. Random Forests with Undersampling](#8)<br>\n",
        "- [5. Save the Best Model](#9)"
      ]
    },
    {
      "cell_type": "markdown",
      "metadata": {
        "id": "GxDZW3OKl9Oq"
      },
      "source": [
        "### Context\n",
        "\n",
        "The dataset is from the U.S. Small Business Administration (SBA) <br>\n",
        "\n",
        "The U.S. SBA was founded in 1953 on the principle of promoting and assisting small enterprises in the U.S. credit market (SBA Overview and History, US Small Business Administration (2015)). Small businesses have been a primary source of job creation in the United States; therefore, fostering small business formation and growth has social benefits by creating job opportunities and reducing unemployment. <br>\n",
        "\n",
        "There have been many success stories of start-ups receiving SBA loan guarantees such as FedEx and Apple Computer. However, there have also been stories of small businesses and/or start-ups that have defaulted on their SBA-guaranteed loans."
      ]
    },
    {
      "cell_type": "code",
      "metadata": {
        "id": "bmj7X8MRl9Os",
        "colab": {
          "base_uri": "https://localhost:8080/"
        },
        "outputId": "1cd58227-f1e8-41c7-e013-65f8be49bb54"
      },
      "source": [
        "## Import libraries\n",
        "import pandas as pd\n",
        "import numpy as np\n",
        "import seaborn as sns\n",
        "import matplotlib.pyplot as plt\n",
        "%matplotlib inline\n",
        "\n",
        "import statsmodels.api as sm\n",
        "import statsmodels.tools \n",
        "\n",
        "from sklearn.ensemble import RandomForestClassifier\n",
        "from sklearn.model_selection import train_test_split\n",
        "from sklearn.model_selection import GridSearchCV\n",
        "from sklearn.metrics import classification_report\n",
        "from sklearn.metrics import roc_auc_score\n",
        "from sklearn.metrics import roc_curve\n",
        "from sklearn.metrics import confusion_matrix\n",
        "from sklearn.metrics import accuracy_score\n",
        "\n",
        "from imblearn.over_sampling import SMOTE\n",
        "from imblearn.over_sampling import BorderlineSMOTE\n",
        "from imblearn.combine import SMOTEENN\n",
        "from imblearn.under_sampling import TomekLinks"
      ],
      "execution_count": 1,
      "outputs": [
        {
          "output_type": "stream",
          "name": "stderr",
          "text": [
            "/usr/local/lib/python3.7/dist-packages/statsmodels/tools/_testing.py:19: FutureWarning: pandas.util.testing is deprecated. Use the functions in the public API at pandas.testing instead.\n",
            "  import pandas.util.testing as tm\n",
            "/usr/local/lib/python3.7/dist-packages/sklearn/externals/six.py:31: FutureWarning: The module is deprecated in version 0.21 and will be removed in version 0.23 since we've dropped support for Python 2.7. Please rely on the official version of six (https://pypi.org/project/six/).\n",
            "  \"(https://pypi.org/project/six/).\", FutureWarning)\n",
            "/usr/local/lib/python3.7/dist-packages/sklearn/utils/deprecation.py:144: FutureWarning: The sklearn.neighbors.base module is  deprecated in version 0.22 and will be removed in version 0.24. The corresponding classes / functions should instead be imported from sklearn.neighbors. Anything that cannot be imported from sklearn.neighbors is now part of the private API.\n",
            "  warnings.warn(message, FutureWarning)\n"
          ]
        }
      ]
    },
    {
      "cell_type": "markdown",
      "metadata": {
        "id": "ep9qA4RNl9Ov"
      },
      "source": [
        "### <a id = \"1\"> 1. Import Data</a>"
      ]
    },
    {
      "cell_type": "code",
      "metadata": {
        "colab": {
          "base_uri": "https://localhost:8080/",
          "height": 498
        },
        "id": "VQmmHXMLl9Ow",
        "outputId": "aa3aa7bf-2cd3-40c7-b632-ae4c0f6042e6"
      },
      "source": [
        "df = pd.read_csv('SBAnational.csv')\n",
        "pd.set_option('display.max_columns', 30)\n",
        "df.head()"
      ],
      "execution_count": 8,
      "outputs": [
        {
          "output_type": "stream",
          "name": "stderr",
          "text": [
            "/usr/local/lib/python3.7/dist-packages/IPython/core/interactiveshell.py:2718: DtypeWarning: Columns (9) have mixed types.Specify dtype option on import or set low_memory=False.\n",
            "  interactivity=interactivity, compiler=compiler, result=result)\n"
          ]
        },
        {
          "output_type": "execute_result",
          "data": {
            "text/html": [
              "<div>\n",
              "<style scoped>\n",
              "    .dataframe tbody tr th:only-of-type {\n",
              "        vertical-align: middle;\n",
              "    }\n",
              "\n",
              "    .dataframe tbody tr th {\n",
              "        vertical-align: top;\n",
              "    }\n",
              "\n",
              "    .dataframe thead th {\n",
              "        text-align: right;\n",
              "    }\n",
              "</style>\n",
              "<table border=\"1\" class=\"dataframe\">\n",
              "  <thead>\n",
              "    <tr style=\"text-align: right;\">\n",
              "      <th></th>\n",
              "      <th>LoanNr_ChkDgt</th>\n",
              "      <th>Name</th>\n",
              "      <th>City</th>\n",
              "      <th>State</th>\n",
              "      <th>Zip</th>\n",
              "      <th>Bank</th>\n",
              "      <th>BankState</th>\n",
              "      <th>NAICS</th>\n",
              "      <th>ApprovalDate</th>\n",
              "      <th>ApprovalFY</th>\n",
              "      <th>Term</th>\n",
              "      <th>NoEmp</th>\n",
              "      <th>NewExist</th>\n",
              "      <th>CreateJob</th>\n",
              "      <th>RetainedJob</th>\n",
              "      <th>FranchiseCode</th>\n",
              "      <th>UrbanRural</th>\n",
              "      <th>RevLineCr</th>\n",
              "      <th>LowDoc</th>\n",
              "      <th>ChgOffDate</th>\n",
              "      <th>DisbursementDate</th>\n",
              "      <th>DisbursementGross</th>\n",
              "      <th>BalanceGross</th>\n",
              "      <th>MIS_Status</th>\n",
              "      <th>ChgOffPrinGr</th>\n",
              "      <th>GrAppv</th>\n",
              "      <th>SBA_Appv</th>\n",
              "    </tr>\n",
              "  </thead>\n",
              "  <tbody>\n",
              "    <tr>\n",
              "      <th>0</th>\n",
              "      <td>1000014003</td>\n",
              "      <td>ABC HOBBYCRAFT</td>\n",
              "      <td>EVANSVILLE</td>\n",
              "      <td>IN</td>\n",
              "      <td>47711</td>\n",
              "      <td>FIFTH THIRD BANK</td>\n",
              "      <td>OH</td>\n",
              "      <td>451120</td>\n",
              "      <td>28-Feb-97</td>\n",
              "      <td>1997</td>\n",
              "      <td>84</td>\n",
              "      <td>4</td>\n",
              "      <td>2.0</td>\n",
              "      <td>0</td>\n",
              "      <td>0</td>\n",
              "      <td>1</td>\n",
              "      <td>0</td>\n",
              "      <td>N</td>\n",
              "      <td>Y</td>\n",
              "      <td>NaN</td>\n",
              "      <td>28-Feb-99</td>\n",
              "      <td>$60,000.00</td>\n",
              "      <td>$0.00</td>\n",
              "      <td>P I F</td>\n",
              "      <td>$0.00</td>\n",
              "      <td>$60,000.00</td>\n",
              "      <td>$48,000.00</td>\n",
              "    </tr>\n",
              "    <tr>\n",
              "      <th>1</th>\n",
              "      <td>1000024006</td>\n",
              "      <td>LANDMARK BAR &amp; GRILLE (THE)</td>\n",
              "      <td>NEW PARIS</td>\n",
              "      <td>IN</td>\n",
              "      <td>46526</td>\n",
              "      <td>1ST SOURCE BANK</td>\n",
              "      <td>IN</td>\n",
              "      <td>722410</td>\n",
              "      <td>28-Feb-97</td>\n",
              "      <td>1997</td>\n",
              "      <td>60</td>\n",
              "      <td>2</td>\n",
              "      <td>2.0</td>\n",
              "      <td>0</td>\n",
              "      <td>0</td>\n",
              "      <td>1</td>\n",
              "      <td>0</td>\n",
              "      <td>N</td>\n",
              "      <td>Y</td>\n",
              "      <td>NaN</td>\n",
              "      <td>31-May-97</td>\n",
              "      <td>$40,000.00</td>\n",
              "      <td>$0.00</td>\n",
              "      <td>P I F</td>\n",
              "      <td>$0.00</td>\n",
              "      <td>$40,000.00</td>\n",
              "      <td>$32,000.00</td>\n",
              "    </tr>\n",
              "    <tr>\n",
              "      <th>2</th>\n",
              "      <td>1000034009</td>\n",
              "      <td>WHITLOCK DDS, TODD M.</td>\n",
              "      <td>BLOOMINGTON</td>\n",
              "      <td>IN</td>\n",
              "      <td>47401</td>\n",
              "      <td>GRANT COUNTY STATE BANK</td>\n",
              "      <td>IN</td>\n",
              "      <td>621210</td>\n",
              "      <td>28-Feb-97</td>\n",
              "      <td>1997</td>\n",
              "      <td>180</td>\n",
              "      <td>7</td>\n",
              "      <td>1.0</td>\n",
              "      <td>0</td>\n",
              "      <td>0</td>\n",
              "      <td>1</td>\n",
              "      <td>0</td>\n",
              "      <td>N</td>\n",
              "      <td>N</td>\n",
              "      <td>NaN</td>\n",
              "      <td>31-Dec-97</td>\n",
              "      <td>$287,000.00</td>\n",
              "      <td>$0.00</td>\n",
              "      <td>P I F</td>\n",
              "      <td>$0.00</td>\n",
              "      <td>$287,000.00</td>\n",
              "      <td>$215,250.00</td>\n",
              "    </tr>\n",
              "    <tr>\n",
              "      <th>3</th>\n",
              "      <td>1000044001</td>\n",
              "      <td>BIG BUCKS PAWN &amp; JEWELRY, LLC</td>\n",
              "      <td>BROKEN ARROW</td>\n",
              "      <td>OK</td>\n",
              "      <td>74012</td>\n",
              "      <td>1ST NATL BK &amp; TR CO OF BROKEN</td>\n",
              "      <td>OK</td>\n",
              "      <td>0</td>\n",
              "      <td>28-Feb-97</td>\n",
              "      <td>1997</td>\n",
              "      <td>60</td>\n",
              "      <td>2</td>\n",
              "      <td>1.0</td>\n",
              "      <td>0</td>\n",
              "      <td>0</td>\n",
              "      <td>1</td>\n",
              "      <td>0</td>\n",
              "      <td>N</td>\n",
              "      <td>Y</td>\n",
              "      <td>NaN</td>\n",
              "      <td>30-Jun-97</td>\n",
              "      <td>$35,000.00</td>\n",
              "      <td>$0.00</td>\n",
              "      <td>P I F</td>\n",
              "      <td>$0.00</td>\n",
              "      <td>$35,000.00</td>\n",
              "      <td>$28,000.00</td>\n",
              "    </tr>\n",
              "    <tr>\n",
              "      <th>4</th>\n",
              "      <td>1000054004</td>\n",
              "      <td>ANASTASIA CONFECTIONS, INC.</td>\n",
              "      <td>ORLANDO</td>\n",
              "      <td>FL</td>\n",
              "      <td>32801</td>\n",
              "      <td>FLORIDA BUS. DEVEL CORP</td>\n",
              "      <td>FL</td>\n",
              "      <td>0</td>\n",
              "      <td>28-Feb-97</td>\n",
              "      <td>1997</td>\n",
              "      <td>240</td>\n",
              "      <td>14</td>\n",
              "      <td>1.0</td>\n",
              "      <td>7</td>\n",
              "      <td>7</td>\n",
              "      <td>1</td>\n",
              "      <td>0</td>\n",
              "      <td>N</td>\n",
              "      <td>N</td>\n",
              "      <td>NaN</td>\n",
              "      <td>14-May-97</td>\n",
              "      <td>$229,000.00</td>\n",
              "      <td>$0.00</td>\n",
              "      <td>P I F</td>\n",
              "      <td>$0.00</td>\n",
              "      <td>$229,000.00</td>\n",
              "      <td>$229,000.00</td>\n",
              "    </tr>\n",
              "  </tbody>\n",
              "</table>\n",
              "</div>"
            ],
            "text/plain": [
              "   LoanNr_ChkDgt                           Name          City State    Zip  \\\n",
              "0     1000014003                 ABC HOBBYCRAFT    EVANSVILLE    IN  47711   \n",
              "1     1000024006    LANDMARK BAR & GRILLE (THE)     NEW PARIS    IN  46526   \n",
              "2     1000034009          WHITLOCK DDS, TODD M.   BLOOMINGTON    IN  47401   \n",
              "3     1000044001  BIG BUCKS PAWN & JEWELRY, LLC  BROKEN ARROW    OK  74012   \n",
              "4     1000054004    ANASTASIA CONFECTIONS, INC.       ORLANDO    FL  32801   \n",
              "\n",
              "                            Bank BankState   NAICS ApprovalDate ApprovalFY  \\\n",
              "0               FIFTH THIRD BANK        OH  451120    28-Feb-97       1997   \n",
              "1                1ST SOURCE BANK        IN  722410    28-Feb-97       1997   \n",
              "2        GRANT COUNTY STATE BANK        IN  621210    28-Feb-97       1997   \n",
              "3  1ST NATL BK & TR CO OF BROKEN        OK       0    28-Feb-97       1997   \n",
              "4        FLORIDA BUS. DEVEL CORP        FL       0    28-Feb-97       1997   \n",
              "\n",
              "   Term  NoEmp  NewExist  CreateJob  RetainedJob  FranchiseCode  UrbanRural  \\\n",
              "0    84      4       2.0          0            0              1           0   \n",
              "1    60      2       2.0          0            0              1           0   \n",
              "2   180      7       1.0          0            0              1           0   \n",
              "3    60      2       1.0          0            0              1           0   \n",
              "4   240     14       1.0          7            7              1           0   \n",
              "\n",
              "  RevLineCr LowDoc ChgOffDate DisbursementDate DisbursementGross BalanceGross  \\\n",
              "0         N      Y        NaN        28-Feb-99       $60,000.00        $0.00    \n",
              "1         N      Y        NaN        31-May-97       $40,000.00        $0.00    \n",
              "2         N      N        NaN        31-Dec-97      $287,000.00        $0.00    \n",
              "3         N      Y        NaN        30-Jun-97       $35,000.00        $0.00    \n",
              "4         N      N        NaN        14-May-97      $229,000.00        $0.00    \n",
              "\n",
              "  MIS_Status ChgOffPrinGr        GrAppv      SBA_Appv  \n",
              "0      P I F       $0.00    $60,000.00    $48,000.00   \n",
              "1      P I F       $0.00    $40,000.00    $32,000.00   \n",
              "2      P I F       $0.00   $287,000.00   $215,250.00   \n",
              "3      P I F       $0.00    $35,000.00    $28,000.00   \n",
              "4      P I F       $0.00   $229,000.00   $229,000.00   "
            ]
          },
          "metadata": {},
          "execution_count": 8
        }
      ]
    },
    {
      "cell_type": "markdown",
      "metadata": {
        "id": "j36UECIel9Ox"
      },
      "source": [
        "### <a id = \"2\"> 2. Describe a Dataset</a>"
      ]
    },
    {
      "cell_type": "code",
      "metadata": {
        "colab": {
          "base_uri": "https://localhost:8080/"
        },
        "id": "pw8MHOe4l9Oy",
        "outputId": "30a6290e-cd93-4936-e286-ce5b64b3f7ee"
      },
      "source": [
        "## Check the size of data\n",
        "df.shape"
      ],
      "execution_count": 9,
      "outputs": [
        {
          "output_type": "execute_result",
          "data": {
            "text/plain": [
              "(899164, 27)"
            ]
          },
          "metadata": {},
          "execution_count": 9
        }
      ]
    },
    {
      "cell_type": "code",
      "metadata": {
        "colab": {
          "base_uri": "https://localhost:8080/"
        },
        "id": "pjKKEWhol9Oy",
        "outputId": "71235b4f-4d38-46ab-99d3-8e9d8244ca68"
      },
      "source": [
        "## Null check\n",
        "df.isnull().sum()"
      ],
      "execution_count": 10,
      "outputs": [
        {
          "output_type": "execute_result",
          "data": {
            "text/plain": [
              "LoanNr_ChkDgt             0\n",
              "Name                     14\n",
              "City                     30\n",
              "State                    14\n",
              "Zip                       0\n",
              "Bank                   1559\n",
              "BankState              1566\n",
              "NAICS                     0\n",
              "ApprovalDate              0\n",
              "ApprovalFY                0\n",
              "Term                      0\n",
              "NoEmp                     0\n",
              "NewExist                136\n",
              "CreateJob                 0\n",
              "RetainedJob               0\n",
              "FranchiseCode             0\n",
              "UrbanRural                0\n",
              "RevLineCr              4528\n",
              "LowDoc                 2582\n",
              "ChgOffDate           736465\n",
              "DisbursementDate       2368\n",
              "DisbursementGross         0\n",
              "BalanceGross              0\n",
              "MIS_Status             1997\n",
              "ChgOffPrinGr              0\n",
              "GrAppv                    0\n",
              "SBA_Appv                  0\n",
              "dtype: int64"
            ]
          },
          "metadata": {},
          "execution_count": 10
        }
      ]
    },
    {
      "cell_type": "code",
      "metadata": {
        "colab": {
          "base_uri": "https://localhost:8080/"
        },
        "id": "DfSW5zcRl9Oz",
        "outputId": "60737d74-f1dc-4a1c-83ff-bdcb79eec741"
      },
      "source": [
        "## Check data types\n",
        "df.dtypes"
      ],
      "execution_count": 11,
      "outputs": [
        {
          "output_type": "execute_result",
          "data": {
            "text/plain": [
              "LoanNr_ChkDgt          int64\n",
              "Name                  object\n",
              "City                  object\n",
              "State                 object\n",
              "Zip                    int64\n",
              "Bank                  object\n",
              "BankState             object\n",
              "NAICS                  int64\n",
              "ApprovalDate          object\n",
              "ApprovalFY            object\n",
              "Term                   int64\n",
              "NoEmp                  int64\n",
              "NewExist             float64\n",
              "CreateJob              int64\n",
              "RetainedJob            int64\n",
              "FranchiseCode          int64\n",
              "UrbanRural             int64\n",
              "RevLineCr             object\n",
              "LowDoc                object\n",
              "ChgOffDate            object\n",
              "DisbursementDate      object\n",
              "DisbursementGross     object\n",
              "BalanceGross          object\n",
              "MIS_Status            object\n",
              "ChgOffPrinGr          object\n",
              "GrAppv                object\n",
              "SBA_Appv              object\n",
              "dtype: object"
            ]
          },
          "metadata": {},
          "execution_count": 11
        }
      ]
    },
    {
      "cell_type": "code",
      "metadata": {
        "colab": {
          "base_uri": "https://localhost:8080/",
          "height": 317
        },
        "id": "eLMUGdfDl9Oz",
        "outputId": "a8d87a79-40d6-4dcc-f3ea-ab1a4f5339fe"
      },
      "source": [
        "df.describe()"
      ],
      "execution_count": 12,
      "outputs": [
        {
          "output_type": "execute_result",
          "data": {
            "text/html": [
              "<div>\n",
              "<style scoped>\n",
              "    .dataframe tbody tr th:only-of-type {\n",
              "        vertical-align: middle;\n",
              "    }\n",
              "\n",
              "    .dataframe tbody tr th {\n",
              "        vertical-align: top;\n",
              "    }\n",
              "\n",
              "    .dataframe thead th {\n",
              "        text-align: right;\n",
              "    }\n",
              "</style>\n",
              "<table border=\"1\" class=\"dataframe\">\n",
              "  <thead>\n",
              "    <tr style=\"text-align: right;\">\n",
              "      <th></th>\n",
              "      <th>LoanNr_ChkDgt</th>\n",
              "      <th>Zip</th>\n",
              "      <th>NAICS</th>\n",
              "      <th>Term</th>\n",
              "      <th>NoEmp</th>\n",
              "      <th>NewExist</th>\n",
              "      <th>CreateJob</th>\n",
              "      <th>RetainedJob</th>\n",
              "      <th>FranchiseCode</th>\n",
              "      <th>UrbanRural</th>\n",
              "    </tr>\n",
              "  </thead>\n",
              "  <tbody>\n",
              "    <tr>\n",
              "      <th>count</th>\n",
              "      <td>8.991640e+05</td>\n",
              "      <td>899164.000000</td>\n",
              "      <td>899164.000000</td>\n",
              "      <td>899164.000000</td>\n",
              "      <td>899164.000000</td>\n",
              "      <td>899028.000000</td>\n",
              "      <td>899164.000000</td>\n",
              "      <td>899164.000000</td>\n",
              "      <td>899164.000000</td>\n",
              "      <td>899164.000000</td>\n",
              "    </tr>\n",
              "    <tr>\n",
              "      <th>mean</th>\n",
              "      <td>4.772612e+09</td>\n",
              "      <td>53804.391241</td>\n",
              "      <td>398660.950146</td>\n",
              "      <td>110.773078</td>\n",
              "      <td>11.411353</td>\n",
              "      <td>1.280404</td>\n",
              "      <td>8.430376</td>\n",
              "      <td>10.797257</td>\n",
              "      <td>2753.725933</td>\n",
              "      <td>0.757748</td>\n",
              "    </tr>\n",
              "    <tr>\n",
              "      <th>std</th>\n",
              "      <td>2.538175e+09</td>\n",
              "      <td>31184.159152</td>\n",
              "      <td>263318.312759</td>\n",
              "      <td>78.857305</td>\n",
              "      <td>74.108196</td>\n",
              "      <td>0.451750</td>\n",
              "      <td>236.688165</td>\n",
              "      <td>237.120600</td>\n",
              "      <td>12758.019136</td>\n",
              "      <td>0.646436</td>\n",
              "    </tr>\n",
              "    <tr>\n",
              "      <th>min</th>\n",
              "      <td>1.000014e+09</td>\n",
              "      <td>0.000000</td>\n",
              "      <td>0.000000</td>\n",
              "      <td>0.000000</td>\n",
              "      <td>0.000000</td>\n",
              "      <td>0.000000</td>\n",
              "      <td>0.000000</td>\n",
              "      <td>0.000000</td>\n",
              "      <td>0.000000</td>\n",
              "      <td>0.000000</td>\n",
              "    </tr>\n",
              "    <tr>\n",
              "      <th>25%</th>\n",
              "      <td>2.589758e+09</td>\n",
              "      <td>27587.000000</td>\n",
              "      <td>235210.000000</td>\n",
              "      <td>60.000000</td>\n",
              "      <td>2.000000</td>\n",
              "      <td>1.000000</td>\n",
              "      <td>0.000000</td>\n",
              "      <td>0.000000</td>\n",
              "      <td>1.000000</td>\n",
              "      <td>0.000000</td>\n",
              "    </tr>\n",
              "    <tr>\n",
              "      <th>50%</th>\n",
              "      <td>4.361439e+09</td>\n",
              "      <td>55410.000000</td>\n",
              "      <td>445310.000000</td>\n",
              "      <td>84.000000</td>\n",
              "      <td>4.000000</td>\n",
              "      <td>1.000000</td>\n",
              "      <td>0.000000</td>\n",
              "      <td>1.000000</td>\n",
              "      <td>1.000000</td>\n",
              "      <td>1.000000</td>\n",
              "    </tr>\n",
              "    <tr>\n",
              "      <th>75%</th>\n",
              "      <td>6.904627e+09</td>\n",
              "      <td>83704.000000</td>\n",
              "      <td>561730.000000</td>\n",
              "      <td>120.000000</td>\n",
              "      <td>10.000000</td>\n",
              "      <td>2.000000</td>\n",
              "      <td>1.000000</td>\n",
              "      <td>4.000000</td>\n",
              "      <td>1.000000</td>\n",
              "      <td>1.000000</td>\n",
              "    </tr>\n",
              "    <tr>\n",
              "      <th>max</th>\n",
              "      <td>9.996003e+09</td>\n",
              "      <td>99999.000000</td>\n",
              "      <td>928120.000000</td>\n",
              "      <td>569.000000</td>\n",
              "      <td>9999.000000</td>\n",
              "      <td>2.000000</td>\n",
              "      <td>8800.000000</td>\n",
              "      <td>9500.000000</td>\n",
              "      <td>99999.000000</td>\n",
              "      <td>2.000000</td>\n",
              "    </tr>\n",
              "  </tbody>\n",
              "</table>\n",
              "</div>"
            ],
            "text/plain": [
              "       LoanNr_ChkDgt            Zip          NAICS           Term  \\\n",
              "count   8.991640e+05  899164.000000  899164.000000  899164.000000   \n",
              "mean    4.772612e+09   53804.391241  398660.950146     110.773078   \n",
              "std     2.538175e+09   31184.159152  263318.312759      78.857305   \n",
              "min     1.000014e+09       0.000000       0.000000       0.000000   \n",
              "25%     2.589758e+09   27587.000000  235210.000000      60.000000   \n",
              "50%     4.361439e+09   55410.000000  445310.000000      84.000000   \n",
              "75%     6.904627e+09   83704.000000  561730.000000     120.000000   \n",
              "max     9.996003e+09   99999.000000  928120.000000     569.000000   \n",
              "\n",
              "               NoEmp       NewExist      CreateJob    RetainedJob  \\\n",
              "count  899164.000000  899028.000000  899164.000000  899164.000000   \n",
              "mean       11.411353       1.280404       8.430376      10.797257   \n",
              "std        74.108196       0.451750     236.688165     237.120600   \n",
              "min         0.000000       0.000000       0.000000       0.000000   \n",
              "25%         2.000000       1.000000       0.000000       0.000000   \n",
              "50%         4.000000       1.000000       0.000000       1.000000   \n",
              "75%        10.000000       2.000000       1.000000       4.000000   \n",
              "max      9999.000000       2.000000    8800.000000    9500.000000   \n",
              "\n",
              "       FranchiseCode     UrbanRural  \n",
              "count  899164.000000  899164.000000  \n",
              "mean     2753.725933       0.757748  \n",
              "std     12758.019136       0.646436  \n",
              "min         0.000000       0.000000  \n",
              "25%         1.000000       0.000000  \n",
              "50%         1.000000       1.000000  \n",
              "75%         1.000000       1.000000  \n",
              "max     99999.000000       2.000000  "
            ]
          },
          "metadata": {},
          "execution_count": 12
        }
      ]
    },
    {
      "cell_type": "markdown",
      "metadata": {
        "id": "NYyLgUrkl9O0"
      },
      "source": [
        "### <a id = \"3\"> 3. Data Cleaning</a>"
      ]
    },
    {
      "cell_type": "code",
      "metadata": {
        "id": "YnEoHltcl9O0"
      },
      "source": [
        "## Make a copy of original df\n",
        "sb_loan = df.copy()"
      ],
      "execution_count": 13,
      "outputs": []
    },
    {
      "cell_type": "code",
      "metadata": {
        "colab": {
          "base_uri": "https://localhost:8080/",
          "height": 224
        },
        "id": "yaF4rzlEl9O0",
        "outputId": "c21b3a77-25e0-4b2c-a47f-5767fd5be7a3"
      },
      "source": [
        "## Drop columns that carry unuseful information\n",
        "sb_loan = sb_loan.drop(['LoanNr_ChkDgt', 'Name', 'City', 'State', 'Zip', 'Bank', 'BankState', 'ApprovalDate', \n",
        "         'FranchiseCode', 'ChgOffDate', 'DisbursementDate', 'DisbursementGross', 'BalanceGross', 'ChgOffPrinGr'], axis=1)\n",
        "\n",
        "sb_loan.head()"
      ],
      "execution_count": 14,
      "outputs": [
        {
          "output_type": "execute_result",
          "data": {
            "text/html": [
              "<div>\n",
              "<style scoped>\n",
              "    .dataframe tbody tr th:only-of-type {\n",
              "        vertical-align: middle;\n",
              "    }\n",
              "\n",
              "    .dataframe tbody tr th {\n",
              "        vertical-align: top;\n",
              "    }\n",
              "\n",
              "    .dataframe thead th {\n",
              "        text-align: right;\n",
              "    }\n",
              "</style>\n",
              "<table border=\"1\" class=\"dataframe\">\n",
              "  <thead>\n",
              "    <tr style=\"text-align: right;\">\n",
              "      <th></th>\n",
              "      <th>NAICS</th>\n",
              "      <th>ApprovalFY</th>\n",
              "      <th>Term</th>\n",
              "      <th>NoEmp</th>\n",
              "      <th>NewExist</th>\n",
              "      <th>CreateJob</th>\n",
              "      <th>RetainedJob</th>\n",
              "      <th>UrbanRural</th>\n",
              "      <th>RevLineCr</th>\n",
              "      <th>LowDoc</th>\n",
              "      <th>MIS_Status</th>\n",
              "      <th>GrAppv</th>\n",
              "      <th>SBA_Appv</th>\n",
              "    </tr>\n",
              "  </thead>\n",
              "  <tbody>\n",
              "    <tr>\n",
              "      <th>0</th>\n",
              "      <td>451120</td>\n",
              "      <td>1997</td>\n",
              "      <td>84</td>\n",
              "      <td>4</td>\n",
              "      <td>2.0</td>\n",
              "      <td>0</td>\n",
              "      <td>0</td>\n",
              "      <td>0</td>\n",
              "      <td>N</td>\n",
              "      <td>Y</td>\n",
              "      <td>P I F</td>\n",
              "      <td>$60,000.00</td>\n",
              "      <td>$48,000.00</td>\n",
              "    </tr>\n",
              "    <tr>\n",
              "      <th>1</th>\n",
              "      <td>722410</td>\n",
              "      <td>1997</td>\n",
              "      <td>60</td>\n",
              "      <td>2</td>\n",
              "      <td>2.0</td>\n",
              "      <td>0</td>\n",
              "      <td>0</td>\n",
              "      <td>0</td>\n",
              "      <td>N</td>\n",
              "      <td>Y</td>\n",
              "      <td>P I F</td>\n",
              "      <td>$40,000.00</td>\n",
              "      <td>$32,000.00</td>\n",
              "    </tr>\n",
              "    <tr>\n",
              "      <th>2</th>\n",
              "      <td>621210</td>\n",
              "      <td>1997</td>\n",
              "      <td>180</td>\n",
              "      <td>7</td>\n",
              "      <td>1.0</td>\n",
              "      <td>0</td>\n",
              "      <td>0</td>\n",
              "      <td>0</td>\n",
              "      <td>N</td>\n",
              "      <td>N</td>\n",
              "      <td>P I F</td>\n",
              "      <td>$287,000.00</td>\n",
              "      <td>$215,250.00</td>\n",
              "    </tr>\n",
              "    <tr>\n",
              "      <th>3</th>\n",
              "      <td>0</td>\n",
              "      <td>1997</td>\n",
              "      <td>60</td>\n",
              "      <td>2</td>\n",
              "      <td>1.0</td>\n",
              "      <td>0</td>\n",
              "      <td>0</td>\n",
              "      <td>0</td>\n",
              "      <td>N</td>\n",
              "      <td>Y</td>\n",
              "      <td>P I F</td>\n",
              "      <td>$35,000.00</td>\n",
              "      <td>$28,000.00</td>\n",
              "    </tr>\n",
              "    <tr>\n",
              "      <th>4</th>\n",
              "      <td>0</td>\n",
              "      <td>1997</td>\n",
              "      <td>240</td>\n",
              "      <td>14</td>\n",
              "      <td>1.0</td>\n",
              "      <td>7</td>\n",
              "      <td>7</td>\n",
              "      <td>0</td>\n",
              "      <td>N</td>\n",
              "      <td>N</td>\n",
              "      <td>P I F</td>\n",
              "      <td>$229,000.00</td>\n",
              "      <td>$229,000.00</td>\n",
              "    </tr>\n",
              "  </tbody>\n",
              "</table>\n",
              "</div>"
            ],
            "text/plain": [
              "    NAICS ApprovalFY  Term  NoEmp  NewExist  CreateJob  RetainedJob  \\\n",
              "0  451120       1997    84      4       2.0          0            0   \n",
              "1  722410       1997    60      2       2.0          0            0   \n",
              "2  621210       1997   180      7       1.0          0            0   \n",
              "3       0       1997    60      2       1.0          0            0   \n",
              "4       0       1997   240     14       1.0          7            7   \n",
              "\n",
              "   UrbanRural RevLineCr LowDoc MIS_Status        GrAppv      SBA_Appv  \n",
              "0           0         N      Y      P I F   $60,000.00    $48,000.00   \n",
              "1           0         N      Y      P I F   $40,000.00    $32,000.00   \n",
              "2           0         N      N      P I F  $287,000.00   $215,250.00   \n",
              "3           0         N      Y      P I F   $35,000.00    $28,000.00   \n",
              "4           0         N      N      P I F  $229,000.00   $229,000.00   "
            ]
          },
          "metadata": {},
          "execution_count": 14
        }
      ]
    },
    {
      "cell_type": "code",
      "metadata": {
        "colab": {
          "base_uri": "https://localhost:8080/"
        },
        "id": "xu6wPu9Sl9O1",
        "outputId": "f8fb56c0-3a44-416f-c330-e9423457ff35"
      },
      "source": [
        "## Drop nulls\n",
        "print(f'# of rows: {sb_loan.shape[0]}')\n",
        "sb_loan.dropna(subset=['NewExist','RevLineCr','LowDoc','MIS_Status'], inplace=True)\n",
        "print(f'# of rows: {sb_loan.shape[0]}')\n",
        "print(sb_loan.isnull().sum())"
      ],
      "execution_count": 15,
      "outputs": [
        {
          "output_type": "stream",
          "name": "stdout",
          "text": [
            "# of rows: 899164\n",
            "# of rows: 889938\n",
            "NAICS          0\n",
            "ApprovalFY     0\n",
            "Term           0\n",
            "NoEmp          0\n",
            "NewExist       0\n",
            "CreateJob      0\n",
            "RetainedJob    0\n",
            "UrbanRural     0\n",
            "RevLineCr      0\n",
            "LowDoc         0\n",
            "MIS_Status     0\n",
            "GrAppv         0\n",
            "SBA_Appv       0\n",
            "dtype: int64\n"
          ]
        }
      ]
    },
    {
      "cell_type": "markdown",
      "metadata": {
        "id": "Ql5PQQrAl9O2"
      },
      "source": [
        "Description of the first two digits of NAICS:\n",
        "\n",
        "| Sector\t| Description |\n",
        "| --- | --- |\n",
        "| 11 |\tAgriculture, forestry, fishing and hunting |\n",
        "| 21 |\tMining, quarrying, and oil and gas extraction|\n",
        "|22 |\tUtilities|\n",
        "|23\t|Construction|\n",
        "|31–33\t|Manufacturing|\n",
        "|42|\tWholesale trade|\n",
        "|44–45|\tRetail trade|\n",
        "|48–49|\tTransportation and warehousing|\n",
        "|51|\tInformation|\n",
        "|52|\tFinance and insurance|\n",
        "|53|\tReal estate and rental and leasing|\n",
        "|54|\tProfessional, scientific, and technical services|\n",
        "|55|\tManagement of companies and enterprises|\n",
        "|56|\tAdministrative and support and waste management and remediation services|\n",
        "|61|\tEducational services|\n",
        "|62|\tHealth care and social assistance|\n",
        "|71|\tArts, entertainment, and recreation|\n",
        "|72|\tAccommodation and food services|\n",
        "|81|\tOther services (except public administration) |\n",
        "|92| Public administration|"
      ]
    },
    {
      "cell_type": "code",
      "metadata": {
        "colab": {
          "base_uri": "https://localhost:8080/"
        },
        "id": "Rn3B629fl9PB",
        "outputId": "90bb3a84-2b2b-4212-c3ca-35ef17dcfc1c"
      },
      "source": [
        "## NAICS: North American industry classification system code\n",
        "## The first two digits represent which industry the business is in\n",
        "print(sb_loan.NAICS.value_counts())\n",
        "print(\"============================\")\n",
        "\n",
        "## Drop rows where the value of NAICS == 0\n",
        "print(f\"Before cleaning:\\n{sb_loan.shape[0]}\")\n",
        "\n",
        "drop_idx = sb_loan[sb_loan.NAICS == 0].index\n",
        "sb_loan = sb_loan.drop(drop_idx)\n",
        "\n",
        "## Check\n",
        "print(f\"\\nAfter cleaning:\\n{sb_loan.shape[0]}\")\n",
        "print(\"============================\")\n",
        "\n",
        "## Take the first two digits and grouping\n",
        "def NAICS(x):\n",
        "    x = str(x)[:2]\n",
        "    if x == '31' or x == '32' or x == '33':\n",
        "        x = '31-33'\n",
        "    elif x == '44' or x == '45':\n",
        "        x = '44-45'\n",
        "    elif x == '48' or x == '49':\n",
        "        x = '48-49'\n",
        "    return x\n",
        "    \n",
        "sb_loan.NAICS = sb_loan.NAICS.apply(NAICS)\n",
        "print(sb_loan.NAICS.value_counts())"
      ],
      "execution_count": 17,
      "outputs": [
        {
          "output_type": "stream",
          "name": "stdout",
          "text": [
            "0         199482\n",
            "722110     27823\n",
            "722211     19364\n",
            "811111     14429\n",
            "621210     13913\n",
            "           ...  \n",
            "524192         1\n",
            "212231         1\n",
            "314992         1\n",
            "315240         1\n",
            "212324         1\n",
            "Name: NAICS, Length: 1311, dtype: int64\n",
            "============================\n",
            "Before cleaning:\n",
            "889938\n",
            "\n",
            "After cleaning:\n",
            "690456\n",
            "============================\n",
            "44-45    126145\n",
            "81        71965\n",
            "31-33     67379\n",
            "54        67313\n",
            "72        67189\n",
            "23        65922\n",
            "62        54856\n",
            "42        48379\n",
            "56        32253\n",
            "48-49     22199\n",
            "71        14497\n",
            "53        13495\n",
            "51        11254\n",
            "52         9411\n",
            "11         8900\n",
            "61         6335\n",
            "21         1829\n",
            "22          656\n",
            "55          256\n",
            "92          223\n",
            "Name: NAICS, dtype: int64\n"
          ]
        }
      ]
    },
    {
      "cell_type": "code",
      "metadata": {
        "colab": {
          "base_uri": "https://localhost:8080/"
        },
        "id": "Pdhk2dh5l9PC",
        "outputId": "ab6a64ce-1711-4756-ef33-97896b000927"
      },
      "source": [
        "## NewExist, (1 = Existing business, 2 = New business)\n",
        "print(sb_loan.NewExist.value_counts())\n",
        "print(\"============================\")\n",
        "\n",
        "## Remove rows where values are 0.0\n",
        "print(f'# of rows: {sb_loan.shape[0]}')\n",
        "sb_loan.drop(sb_loan[sb_loan.NewExist == 0.0].index, inplace = True)\n",
        "print(f'# of rows: {sb_loan.shape[0]}')\n",
        "\n",
        "## Change datatype, from float to int\n",
        "sb_loan.NewExist = sb_loan.NewExist.astype(int)"
      ],
      "execution_count": 18,
      "outputs": [
        {
          "output_type": "stream",
          "name": "stdout",
          "text": [
            "1.0    498467\n",
            "2.0    191260\n",
            "0.0       729\n",
            "Name: NewExist, dtype: int64\n",
            "============================\n",
            "# of rows: 690456\n",
            "# of rows: 689727\n"
          ]
        }
      ]
    },
    {
      "cell_type": "code",
      "metadata": {
        "colab": {
          "base_uri": "https://localhost:8080/"
        },
        "id": "FX6svCYDl9PD",
        "outputId": "391a30ee-f94b-4d5b-fa7f-438fdc2cc1a6"
      },
      "source": [
        "## RevLineCr: Yes/No columns\n",
        "## Check if the column has other values apart from yes or no\n",
        "print(f'Before Cleaning:\\n{sb_loan.RevLineCr.value_counts()}')\n",
        "\n",
        "sb_loan = sb_loan[(sb_loan.RevLineCr == 'N') | (sb_loan.RevLineCr == 'Y')]\n",
        "print(f'After Cleaning:\\n{sb_loan.RevLineCr.value_counts()}')"
      ],
      "execution_count": 19,
      "outputs": [
        {
          "output_type": "stream",
          "name": "stdout",
          "text": [
            "Before Cleaning:\n",
            "N    267411\n",
            "0    214032\n",
            "Y    193682\n",
            "T     14557\n",
            "1        14\n",
            "R        14\n",
            "`         5\n",
            "2         5\n",
            "C         2\n",
            "Q         1\n",
            "A         1\n",
            ",         1\n",
            "7         1\n",
            "-         1\n",
            "Name: RevLineCr, dtype: int64\n",
            "After Cleaning:\n",
            "N    267411\n",
            "Y    193682\n",
            "Name: RevLineCr, dtype: int64\n"
          ]
        }
      ]
    },
    {
      "cell_type": "code",
      "metadata": {
        "colab": {
          "base_uri": "https://localhost:8080/"
        },
        "id": "EXxPgmFll9PE",
        "outputId": "9791c2c8-1477-4cfb-870a-7287c8f1dd83"
      },
      "source": [
        "## LowDoc: Yes/No columns\n",
        "## Check if the column has other values apart from yes or no\n",
        "print(f'Before Cleaning:\\n{sb_loan.LowDoc.value_counts()}')\n",
        "\n",
        "sb_loan = sb_loan[(sb_loan.LowDoc == 'N') | (sb_loan.LowDoc == 'Y')]\n",
        "print(f'After Cleaning:\\n{sb_loan.LowDoc.value_counts()}')"
      ],
      "execution_count": 20,
      "outputs": [
        {
          "output_type": "stream",
          "name": "stdout",
          "text": [
            "Before Cleaning:\n",
            "N    434155\n",
            "Y     25142\n",
            "S       565\n",
            "C       557\n",
            "0       512\n",
            "A       104\n",
            "R        57\n",
            "1         1\n",
            "Name: LowDoc, dtype: int64\n",
            "After Cleaning:\n",
            "N    434155\n",
            "Y     25142\n",
            "Name: LowDoc, dtype: int64\n"
          ]
        }
      ]
    },
    {
      "cell_type": "code",
      "metadata": {
        "colab": {
          "base_uri": "https://localhost:8080/"
        },
        "id": "sFrYw7Fcl9PF",
        "outputId": "7c0edbdb-5e2e-438f-acd0-c8c48ab024c5"
      },
      "source": [
        "## MIS_Status\n",
        "print(f'before:\\n{sb_loan.MIS_Status.value_counts()}')\n",
        "\n",
        "sb_loan.MIS_Status = np.where(sb_loan.MIS_Status == 'CHGOFF', 1, 0)\n",
        "print(f'after:\\n{sb_loan.MIS_Status.value_counts()}')"
      ],
      "execution_count": 21,
      "outputs": [
        {
          "output_type": "stream",
          "name": "stdout",
          "text": [
            "before:\n",
            "P I F     360762\n",
            "CHGOFF     98535\n",
            "Name: MIS_Status, dtype: int64\n",
            "after:\n",
            "0    360762\n",
            "1     98535\n",
            "Name: MIS_Status, dtype: int64\n"
          ]
        }
      ]
    },
    {
      "cell_type": "code",
      "metadata": {
        "colab": {
          "base_uri": "https://localhost:8080/",
          "height": 204
        },
        "id": "f1_RLmsil9PF",
        "outputId": "5cc6140a-09fb-4c4d-b210-0f01da419a28"
      },
      "source": [
        "## Currency related columns\n",
        "currency_cols = ['GrAppv', 'SBA_Appv']\n",
        "for col in currency_cols:\n",
        "    sb_loan[col] = sb_loan[col].str.replace('$', '').str.replace(',','')\n",
        "    sb_loan[col] = sb_loan[col].astype(float)\n",
        "\n",
        "sb_loan.head()"
      ],
      "execution_count": 22,
      "outputs": [
        {
          "output_type": "execute_result",
          "data": {
            "text/html": [
              "<div>\n",
              "<style scoped>\n",
              "    .dataframe tbody tr th:only-of-type {\n",
              "        vertical-align: middle;\n",
              "    }\n",
              "\n",
              "    .dataframe tbody tr th {\n",
              "        vertical-align: top;\n",
              "    }\n",
              "\n",
              "    .dataframe thead th {\n",
              "        text-align: right;\n",
              "    }\n",
              "</style>\n",
              "<table border=\"1\" class=\"dataframe\">\n",
              "  <thead>\n",
              "    <tr style=\"text-align: right;\">\n",
              "      <th></th>\n",
              "      <th>NAICS</th>\n",
              "      <th>ApprovalFY</th>\n",
              "      <th>Term</th>\n",
              "      <th>NoEmp</th>\n",
              "      <th>NewExist</th>\n",
              "      <th>CreateJob</th>\n",
              "      <th>RetainedJob</th>\n",
              "      <th>UrbanRural</th>\n",
              "      <th>RevLineCr</th>\n",
              "      <th>LowDoc</th>\n",
              "      <th>MIS_Status</th>\n",
              "      <th>GrAppv</th>\n",
              "      <th>SBA_Appv</th>\n",
              "    </tr>\n",
              "  </thead>\n",
              "  <tbody>\n",
              "    <tr>\n",
              "      <th>0</th>\n",
              "      <td>44-45</td>\n",
              "      <td>1997</td>\n",
              "      <td>84</td>\n",
              "      <td>4</td>\n",
              "      <td>2</td>\n",
              "      <td>0</td>\n",
              "      <td>0</td>\n",
              "      <td>0</td>\n",
              "      <td>N</td>\n",
              "      <td>Y</td>\n",
              "      <td>0</td>\n",
              "      <td>60000.0</td>\n",
              "      <td>48000.0</td>\n",
              "    </tr>\n",
              "    <tr>\n",
              "      <th>1</th>\n",
              "      <td>72</td>\n",
              "      <td>1997</td>\n",
              "      <td>60</td>\n",
              "      <td>2</td>\n",
              "      <td>2</td>\n",
              "      <td>0</td>\n",
              "      <td>0</td>\n",
              "      <td>0</td>\n",
              "      <td>N</td>\n",
              "      <td>Y</td>\n",
              "      <td>0</td>\n",
              "      <td>40000.0</td>\n",
              "      <td>32000.0</td>\n",
              "    </tr>\n",
              "    <tr>\n",
              "      <th>2</th>\n",
              "      <td>62</td>\n",
              "      <td>1997</td>\n",
              "      <td>180</td>\n",
              "      <td>7</td>\n",
              "      <td>1</td>\n",
              "      <td>0</td>\n",
              "      <td>0</td>\n",
              "      <td>0</td>\n",
              "      <td>N</td>\n",
              "      <td>N</td>\n",
              "      <td>0</td>\n",
              "      <td>287000.0</td>\n",
              "      <td>215250.0</td>\n",
              "    </tr>\n",
              "    <tr>\n",
              "      <th>5</th>\n",
              "      <td>31-33</td>\n",
              "      <td>1997</td>\n",
              "      <td>120</td>\n",
              "      <td>19</td>\n",
              "      <td>1</td>\n",
              "      <td>0</td>\n",
              "      <td>0</td>\n",
              "      <td>0</td>\n",
              "      <td>N</td>\n",
              "      <td>N</td>\n",
              "      <td>0</td>\n",
              "      <td>517000.0</td>\n",
              "      <td>387750.0</td>\n",
              "    </tr>\n",
              "    <tr>\n",
              "      <th>7</th>\n",
              "      <td>81</td>\n",
              "      <td>1997</td>\n",
              "      <td>84</td>\n",
              "      <td>1</td>\n",
              "      <td>2</td>\n",
              "      <td>0</td>\n",
              "      <td>0</td>\n",
              "      <td>0</td>\n",
              "      <td>N</td>\n",
              "      <td>Y</td>\n",
              "      <td>0</td>\n",
              "      <td>45000.0</td>\n",
              "      <td>36000.0</td>\n",
              "    </tr>\n",
              "  </tbody>\n",
              "</table>\n",
              "</div>"
            ],
            "text/plain": [
              "   NAICS ApprovalFY  Term  NoEmp  NewExist  CreateJob  RetainedJob  \\\n",
              "0  44-45       1997    84      4         2          0            0   \n",
              "1     72       1997    60      2         2          0            0   \n",
              "2     62       1997   180      7         1          0            0   \n",
              "5  31-33       1997   120     19         1          0            0   \n",
              "7     81       1997    84      1         2          0            0   \n",
              "\n",
              "   UrbanRural RevLineCr LowDoc  MIS_Status    GrAppv  SBA_Appv  \n",
              "0           0         N      Y           0   60000.0   48000.0  \n",
              "1           0         N      Y           0   40000.0   32000.0  \n",
              "2           0         N      N           0  287000.0  215250.0  \n",
              "5           0         N      N           0  517000.0  387750.0  \n",
              "7           0         N      Y           0   45000.0   36000.0  "
            ]
          },
          "metadata": {},
          "execution_count": 22
        }
      ]
    },
    {
      "cell_type": "code",
      "metadata": {
        "id": "lEGYybrWd9im"
      },
      "source": [
        "sb_loan.ApprovalFY = sb_loan.ApprovalFY.astype(int)"
      ],
      "execution_count": 25,
      "outputs": []
    },
    {
      "cell_type": "code",
      "metadata": {
        "colab": {
          "base_uri": "https://localhost:8080/"
        },
        "id": "-0P-wT1Jl9PG",
        "outputId": "45b080c0-ab5a-4ace-f16c-b307a23761ed"
      },
      "source": [
        "## Datatype Double Check\n",
        "sb_loan.dtypes"
      ],
      "execution_count": 29,
      "outputs": [
        {
          "output_type": "execute_result",
          "data": {
            "text/plain": [
              "NAICS           object\n",
              "ApprovalFY       int64\n",
              "Term             int64\n",
              "NoEmp            int64\n",
              "NewExist         int64\n",
              "CreateJob        int64\n",
              "RetainedJob      int64\n",
              "UrbanRural       int64\n",
              "RevLineCr       object\n",
              "LowDoc          object\n",
              "MIS_Status       int64\n",
              "GrAppv         float64\n",
              "SBA_Appv       float64\n",
              "dtype: object"
            ]
          },
          "metadata": {},
          "execution_count": 29
        }
      ]
    },
    {
      "cell_type": "code",
      "metadata": {
        "colab": {
          "base_uri": "https://localhost:8080/"
        },
        "id": "RVUSCkokl9PG",
        "outputId": "b25bfdbd-9266-4a0d-ce31-5abd5a4a58b5"
      },
      "source": [
        "## Label distribution\n",
        "sb_loan.MIS_Status.value_counts()"
      ],
      "execution_count": 26,
      "outputs": [
        {
          "output_type": "execute_result",
          "data": {
            "text/plain": [
              "0    360762\n",
              "1     98535\n",
              "Name: MIS_Status, dtype: int64"
            ]
          },
          "metadata": {},
          "execution_count": 26
        }
      ]
    },
    {
      "cell_type": "code",
      "metadata": {
        "colab": {
          "base_uri": "https://localhost:8080/",
          "height": 536
        },
        "id": "2aGLNGwCl9PH",
        "outputId": "d5e26766-0322-4994-90f4-c55326b9cedc"
      },
      "source": [
        "## Correlation\n",
        "sym_col = sns.diverging_palette(50, 50, s=100, as_cmap=True)\n",
        "\n",
        "plt.figure(figsize=(8,8))\n",
        "sns.heatmap(sb_loan.corr(),annot=True, vmin=-1,vmax=1, center = 0, cmap=sym_col)\n",
        "plt.show()"
      ],
      "execution_count": 27,
      "outputs": [
        {
          "output_type": "display_data",
          "data": {
            "image/png": "[encoded data removed]",
            "text/plain": [
              "<Figure size 576x576 with 2 Axes>"
            ]
          },
          "metadata": {
            "needs_background": "light"
          }
        }
      ]
    },
    {
      "cell_type": "code",
      "metadata": {
        "colab": {
          "base_uri": "https://localhost:8080/",
          "height": 439
        },
        "id": "LnfZFAxUd9in",
        "outputId": "4ff56764-4338-4f95-b445-db88e2b2c00f"
      },
      "source": [
        "sb_loan"
      ],
      "execution_count": 30,
      "outputs": [
        {
          "output_type": "execute_result",
          "data": {
            "text/html": [
              "<div>\n",
              "<style scoped>\n",
              "    .dataframe tbody tr th:only-of-type {\n",
              "        vertical-align: middle;\n",
              "    }\n",
              "\n",
              "    .dataframe tbody tr th {\n",
              "        vertical-align: top;\n",
              "    }\n",
              "\n",
              "    .dataframe thead th {\n",
              "        text-align: right;\n",
              "    }\n",
              "</style>\n",
              "<table border=\"1\" class=\"dataframe\">\n",
              "  <thead>\n",
              "    <tr style=\"text-align: right;\">\n",
              "      <th></th>\n",
              "      <th>NAICS</th>\n",
              "      <th>ApprovalFY</th>\n",
              "      <th>Term</th>\n",
              "      <th>NoEmp</th>\n",
              "      <th>NewExist</th>\n",
              "      <th>CreateJob</th>\n",
              "      <th>RetainedJob</th>\n",
              "      <th>UrbanRural</th>\n",
              "      <th>RevLineCr</th>\n",
              "      <th>LowDoc</th>\n",
              "      <th>MIS_Status</th>\n",
              "      <th>GrAppv</th>\n",
              "      <th>SBA_Appv</th>\n",
              "    </tr>\n",
              "  </thead>\n",
              "  <tbody>\n",
              "    <tr>\n",
              "      <th>0</th>\n",
              "      <td>44-45</td>\n",
              "      <td>1997</td>\n",
              "      <td>84</td>\n",
              "      <td>4</td>\n",
              "      <td>2</td>\n",
              "      <td>0</td>\n",
              "      <td>0</td>\n",
              "      <td>0</td>\n",
              "      <td>N</td>\n",
              "      <td>Y</td>\n",
              "      <td>0</td>\n",
              "      <td>60000.0</td>\n",
              "      <td>48000.0</td>\n",
              "    </tr>\n",
              "    <tr>\n",
              "      <th>1</th>\n",
              "      <td>72</td>\n",
              "      <td>1997</td>\n",
              "      <td>60</td>\n",
              "      <td>2</td>\n",
              "      <td>2</td>\n",
              "      <td>0</td>\n",
              "      <td>0</td>\n",
              "      <td>0</td>\n",
              "      <td>N</td>\n",
              "      <td>Y</td>\n",
              "      <td>0</td>\n",
              "      <td>40000.0</td>\n",
              "      <td>32000.0</td>\n",
              "    </tr>\n",
              "    <tr>\n",
              "      <th>2</th>\n",
              "      <td>62</td>\n",
              "      <td>1997</td>\n",
              "      <td>180</td>\n",
              "      <td>7</td>\n",
              "      <td>1</td>\n",
              "      <td>0</td>\n",
              "      <td>0</td>\n",
              "      <td>0</td>\n",
              "      <td>N</td>\n",
              "      <td>N</td>\n",
              "      <td>0</td>\n",
              "      <td>287000.0</td>\n",
              "      <td>215250.0</td>\n",
              "    </tr>\n",
              "    <tr>\n",
              "      <th>5</th>\n",
              "      <td>31-33</td>\n",
              "      <td>1997</td>\n",
              "      <td>120</td>\n",
              "      <td>19</td>\n",
              "      <td>1</td>\n",
              "      <td>0</td>\n",
              "      <td>0</td>\n",
              "      <td>0</td>\n",
              "      <td>N</td>\n",
              "      <td>N</td>\n",
              "      <td>0</td>\n",
              "      <td>517000.0</td>\n",
              "      <td>387750.0</td>\n",
              "    </tr>\n",
              "    <tr>\n",
              "      <th>7</th>\n",
              "      <td>81</td>\n",
              "      <td>1997</td>\n",
              "      <td>84</td>\n",
              "      <td>1</td>\n",
              "      <td>2</td>\n",
              "      <td>0</td>\n",
              "      <td>0</td>\n",
              "      <td>0</td>\n",
              "      <td>N</td>\n",
              "      <td>Y</td>\n",
              "      <td>0</td>\n",
              "      <td>45000.0</td>\n",
              "      <td>36000.0</td>\n",
              "    </tr>\n",
              "    <tr>\n",
              "      <th>...</th>\n",
              "      <td>...</td>\n",
              "      <td>...</td>\n",
              "      <td>...</td>\n",
              "      <td>...</td>\n",
              "      <td>...</td>\n",
              "      <td>...</td>\n",
              "      <td>...</td>\n",
              "      <td>...</td>\n",
              "      <td>...</td>\n",
              "      <td>...</td>\n",
              "      <td>...</td>\n",
              "      <td>...</td>\n",
              "      <td>...</td>\n",
              "    </tr>\n",
              "    <tr>\n",
              "      <th>899145</th>\n",
              "      <td>23</td>\n",
              "      <td>1997</td>\n",
              "      <td>60</td>\n",
              "      <td>5</td>\n",
              "      <td>1</td>\n",
              "      <td>0</td>\n",
              "      <td>0</td>\n",
              "      <td>0</td>\n",
              "      <td>Y</td>\n",
              "      <td>N</td>\n",
              "      <td>0</td>\n",
              "      <td>25000.0</td>\n",
              "      <td>12500.0</td>\n",
              "    </tr>\n",
              "    <tr>\n",
              "      <th>899146</th>\n",
              "      <td>31-33</td>\n",
              "      <td>1997</td>\n",
              "      <td>240</td>\n",
              "      <td>8</td>\n",
              "      <td>1</td>\n",
              "      <td>4</td>\n",
              "      <td>0</td>\n",
              "      <td>0</td>\n",
              "      <td>N</td>\n",
              "      <td>N</td>\n",
              "      <td>0</td>\n",
              "      <td>189000.0</td>\n",
              "      <td>189000.0</td>\n",
              "    </tr>\n",
              "    <tr>\n",
              "      <th>899157</th>\n",
              "      <td>31-33</td>\n",
              "      <td>1997</td>\n",
              "      <td>36</td>\n",
              "      <td>40</td>\n",
              "      <td>1</td>\n",
              "      <td>0</td>\n",
              "      <td>0</td>\n",
              "      <td>0</td>\n",
              "      <td>N</td>\n",
              "      <td>N</td>\n",
              "      <td>0</td>\n",
              "      <td>200000.0</td>\n",
              "      <td>150000.0</td>\n",
              "    </tr>\n",
              "    <tr>\n",
              "      <th>899160</th>\n",
              "      <td>44-45</td>\n",
              "      <td>1997</td>\n",
              "      <td>60</td>\n",
              "      <td>6</td>\n",
              "      <td>1</td>\n",
              "      <td>0</td>\n",
              "      <td>0</td>\n",
              "      <td>0</td>\n",
              "      <td>Y</td>\n",
              "      <td>N</td>\n",
              "      <td>0</td>\n",
              "      <td>85000.0</td>\n",
              "      <td>42500.0</td>\n",
              "    </tr>\n",
              "    <tr>\n",
              "      <th>899161</th>\n",
              "      <td>31-33</td>\n",
              "      <td>1997</td>\n",
              "      <td>108</td>\n",
              "      <td>26</td>\n",
              "      <td>1</td>\n",
              "      <td>0</td>\n",
              "      <td>0</td>\n",
              "      <td>0</td>\n",
              "      <td>N</td>\n",
              "      <td>N</td>\n",
              "      <td>0</td>\n",
              "      <td>300000.0</td>\n",
              "      <td>225000.0</td>\n",
              "    </tr>\n",
              "  </tbody>\n",
              "</table>\n",
              "<p>459297 rows × 13 columns</p>\n",
              "</div>"
            ],
            "text/plain": [
              "        NAICS  ApprovalFY  Term  NoEmp  NewExist  CreateJob  RetainedJob  \\\n",
              "0       44-45        1997    84      4         2          0            0   \n",
              "1          72        1997    60      2         2          0            0   \n",
              "2          62        1997   180      7         1          0            0   \n",
              "5       31-33        1997   120     19         1          0            0   \n",
              "7          81        1997    84      1         2          0            0   \n",
              "...       ...         ...   ...    ...       ...        ...          ...   \n",
              "899145     23        1997    60      5         1          0            0   \n",
              "899146  31-33        1997   240      8         1          4            0   \n",
              "899157  31-33        1997    36     40         1          0            0   \n",
              "899160  44-45        1997    60      6         1          0            0   \n",
              "899161  31-33        1997   108     26         1          0            0   \n",
              "\n",
              "        UrbanRural RevLineCr LowDoc  MIS_Status    GrAppv  SBA_Appv  \n",
              "0                0         N      Y           0   60000.0   48000.0  \n",
              "1                0         N      Y           0   40000.0   32000.0  \n",
              "2                0         N      N           0  287000.0  215250.0  \n",
              "5                0         N      N           0  517000.0  387750.0  \n",
              "7                0         N      Y           0   45000.0   36000.0  \n",
              "...            ...       ...    ...         ...       ...       ...  \n",
              "899145           0         Y      N           0   25000.0   12500.0  \n",
              "899146           0         N      N           0  189000.0  189000.0  \n",
              "899157           0         N      N           0  200000.0  150000.0  \n",
              "899160           0         Y      N           0   85000.0   42500.0  \n",
              "899161           0         N      N           0  300000.0  225000.0  \n",
              "\n",
              "[459297 rows x 13 columns]"
            ]
          },
          "metadata": {},
          "execution_count": 30
        }
      ]
    },
    {
      "cell_type": "markdown",
      "metadata": {
        "id": "LiviBw7Dl9PI"
      },
      "source": [
        "### <a id = \"4\"> 4. Modelling</a>"
      ]
    },
    {
      "cell_type": "code",
      "metadata": {
        "id": "GIHWWnJMl9PK"
      },
      "source": [
        "fea_cols = list(sb_loan.columns)\n",
        "fea_cols.remove('MIS_Status')\n",
        "\n",
        "X = sb_loan[fea_cols]\n",
        "y = sb_loan['MIS_Status']"
      ],
      "execution_count": 31,
      "outputs": []
    },
    {
      "cell_type": "markdown",
      "metadata": {
        "id": "IqV3vTZhl9PJ"
      },
      "source": [
        "#### <a id = \"5\"> 4-1. Logistic Regression</a>"
      ]
    },
    {
      "cell_type": "code",
      "metadata": {
        "colab": {
          "base_uri": "https://localhost:8080/",
          "height": 111
        },
        "id": "lX0ej7tRl9PJ",
        "scrolled": false,
        "outputId": "66a27457-4cb9-40ef-cab4-ce813aaff91e"
      },
      "source": [
        "sb_loan.head(2)"
      ],
      "execution_count": 32,
      "outputs": [
        {
          "output_type": "execute_result",
          "data": {
            "text/html": [
              "<div>\n",
              "<style scoped>\n",
              "    .dataframe tbody tr th:only-of-type {\n",
              "        vertical-align: middle;\n",
              "    }\n",
              "\n",
              "    .dataframe tbody tr th {\n",
              "        vertical-align: top;\n",
              "    }\n",
              "\n",
              "    .dataframe thead th {\n",
              "        text-align: right;\n",
              "    }\n",
              "</style>\n",
              "<table border=\"1\" class=\"dataframe\">\n",
              "  <thead>\n",
              "    <tr style=\"text-align: right;\">\n",
              "      <th></th>\n",
              "      <th>NAICS</th>\n",
              "      <th>ApprovalFY</th>\n",
              "      <th>Term</th>\n",
              "      <th>NoEmp</th>\n",
              "      <th>NewExist</th>\n",
              "      <th>CreateJob</th>\n",
              "      <th>RetainedJob</th>\n",
              "      <th>UrbanRural</th>\n",
              "      <th>RevLineCr</th>\n",
              "      <th>LowDoc</th>\n",
              "      <th>MIS_Status</th>\n",
              "      <th>GrAppv</th>\n",
              "      <th>SBA_Appv</th>\n",
              "    </tr>\n",
              "  </thead>\n",
              "  <tbody>\n",
              "    <tr>\n",
              "      <th>0</th>\n",
              "      <td>44-45</td>\n",
              "      <td>1997</td>\n",
              "      <td>84</td>\n",
              "      <td>4</td>\n",
              "      <td>2</td>\n",
              "      <td>0</td>\n",
              "      <td>0</td>\n",
              "      <td>0</td>\n",
              "      <td>N</td>\n",
              "      <td>Y</td>\n",
              "      <td>0</td>\n",
              "      <td>60000.0</td>\n",
              "      <td>48000.0</td>\n",
              "    </tr>\n",
              "    <tr>\n",
              "      <th>1</th>\n",
              "      <td>72</td>\n",
              "      <td>1997</td>\n",
              "      <td>60</td>\n",
              "      <td>2</td>\n",
              "      <td>2</td>\n",
              "      <td>0</td>\n",
              "      <td>0</td>\n",
              "      <td>0</td>\n",
              "      <td>N</td>\n",
              "      <td>Y</td>\n",
              "      <td>0</td>\n",
              "      <td>40000.0</td>\n",
              "      <td>32000.0</td>\n",
              "    </tr>\n",
              "  </tbody>\n",
              "</table>\n",
              "</div>"
            ],
            "text/plain": [
              "   NAICS  ApprovalFY  Term  NoEmp  NewExist  CreateJob  RetainedJob  \\\n",
              "0  44-45        1997    84      4         2          0            0   \n",
              "1     72        1997    60      2         2          0            0   \n",
              "\n",
              "   UrbanRural RevLineCr LowDoc  MIS_Status   GrAppv  SBA_Appv  \n",
              "0           0         N      Y           0  60000.0   48000.0  \n",
              "1           0         N      Y           0  40000.0   32000.0  "
            ]
          },
          "metadata": {},
          "execution_count": 32
        }
      ]
    },
    {
      "cell_type": "code",
      "metadata": {
        "id": "js53jWgzl9PK"
      },
      "source": [
        "## Feature engineering; NAICS\n",
        "def feature_eng(df):\n",
        "    df = pd.get_dummies(df, columns=['NAICS'],drop_first=True, prefix='NAICS')   \n",
        "    df = pd.get_dummies(df, columns=['RevLineCr'],drop_first=True, prefix='RevLineCr')\n",
        "    df = pd.get_dummies(df, columns=['LowDoc'],drop_first=True, prefix='LowDoc')\n",
        "    df = sm.add_constant(df)\n",
        "\n",
        "    return df"
      ],
      "execution_count": 33,
      "outputs": []
    },
    {
      "cell_type": "code",
      "metadata": {
        "id": "qBcua_2Jl9PK"
      },
      "source": [
        "X_train, X_test, y_train, y_test = train_test_split(X, y, random_state=924)"
      ],
      "execution_count": 34,
      "outputs": []
    },
    {
      "cell_type": "code",
      "metadata": {
        "colab": {
          "base_uri": "https://localhost:8080/",
          "height": 177
        },
        "id": "1SNMiVR_l9PK",
        "outputId": "72564135-5741-492a-d544-8f2705c946bd"
      },
      "source": [
        "X_train_eng = feature_eng(X_train)\n",
        "X_train_eng.head(2)"
      ],
      "execution_count": 35,
      "outputs": [
        {
          "output_type": "execute_result",
          "data": {
            "text/html": [
              "<div>\n",
              "<style scoped>\n",
              "    .dataframe tbody tr th:only-of-type {\n",
              "        vertical-align: middle;\n",
              "    }\n",
              "\n",
              "    .dataframe tbody tr th {\n",
              "        vertical-align: top;\n",
              "    }\n",
              "\n",
              "    .dataframe thead th {\n",
              "        text-align: right;\n",
              "    }\n",
              "</style>\n",
              "<table border=\"1\" class=\"dataframe\">\n",
              "  <thead>\n",
              "    <tr style=\"text-align: right;\">\n",
              "      <th></th>\n",
              "      <th>const</th>\n",
              "      <th>ApprovalFY</th>\n",
              "      <th>Term</th>\n",
              "      <th>NoEmp</th>\n",
              "      <th>NewExist</th>\n",
              "      <th>CreateJob</th>\n",
              "      <th>RetainedJob</th>\n",
              "      <th>UrbanRural</th>\n",
              "      <th>GrAppv</th>\n",
              "      <th>SBA_Appv</th>\n",
              "      <th>NAICS_21</th>\n",
              "      <th>NAICS_22</th>\n",
              "      <th>NAICS_23</th>\n",
              "      <th>NAICS_31-33</th>\n",
              "      <th>NAICS_42</th>\n",
              "      <th>...</th>\n",
              "      <th>NAICS_48-49</th>\n",
              "      <th>NAICS_51</th>\n",
              "      <th>NAICS_52</th>\n",
              "      <th>NAICS_53</th>\n",
              "      <th>NAICS_54</th>\n",
              "      <th>NAICS_55</th>\n",
              "      <th>NAICS_56</th>\n",
              "      <th>NAICS_61</th>\n",
              "      <th>NAICS_62</th>\n",
              "      <th>NAICS_71</th>\n",
              "      <th>NAICS_72</th>\n",
              "      <th>NAICS_81</th>\n",
              "      <th>NAICS_92</th>\n",
              "      <th>RevLineCr_Y</th>\n",
              "      <th>LowDoc_Y</th>\n",
              "    </tr>\n",
              "  </thead>\n",
              "  <tbody>\n",
              "    <tr>\n",
              "      <th>235392</th>\n",
              "      <td>1.0</td>\n",
              "      <td>2007</td>\n",
              "      <td>84</td>\n",
              "      <td>1</td>\n",
              "      <td>2</td>\n",
              "      <td>0</td>\n",
              "      <td>1</td>\n",
              "      <td>1</td>\n",
              "      <td>10000.0</td>\n",
              "      <td>5000.0</td>\n",
              "      <td>0</td>\n",
              "      <td>0</td>\n",
              "      <td>0</td>\n",
              "      <td>1</td>\n",
              "      <td>0</td>\n",
              "      <td>...</td>\n",
              "      <td>0</td>\n",
              "      <td>0</td>\n",
              "      <td>0</td>\n",
              "      <td>0</td>\n",
              "      <td>0</td>\n",
              "      <td>0</td>\n",
              "      <td>0</td>\n",
              "      <td>0</td>\n",
              "      <td>0</td>\n",
              "      <td>0</td>\n",
              "      <td>0</td>\n",
              "      <td>0</td>\n",
              "      <td>0</td>\n",
              "      <td>1</td>\n",
              "      <td>0</td>\n",
              "    </tr>\n",
              "    <tr>\n",
              "      <th>662319</th>\n",
              "      <td>1.0</td>\n",
              "      <td>2003</td>\n",
              "      <td>60</td>\n",
              "      <td>2</td>\n",
              "      <td>1</td>\n",
              "      <td>0</td>\n",
              "      <td>2</td>\n",
              "      <td>1</td>\n",
              "      <td>20000.0</td>\n",
              "      <td>10000.0</td>\n",
              "      <td>0</td>\n",
              "      <td>0</td>\n",
              "      <td>0</td>\n",
              "      <td>0</td>\n",
              "      <td>0</td>\n",
              "      <td>...</td>\n",
              "      <td>0</td>\n",
              "      <td>0</td>\n",
              "      <td>0</td>\n",
              "      <td>0</td>\n",
              "      <td>0</td>\n",
              "      <td>0</td>\n",
              "      <td>0</td>\n",
              "      <td>0</td>\n",
              "      <td>0</td>\n",
              "      <td>0</td>\n",
              "      <td>0</td>\n",
              "      <td>0</td>\n",
              "      <td>0</td>\n",
              "      <td>1</td>\n",
              "      <td>0</td>\n",
              "    </tr>\n",
              "  </tbody>\n",
              "</table>\n",
              "<p>2 rows × 31 columns</p>\n",
              "</div>"
            ],
            "text/plain": [
              "        const  ApprovalFY  Term  NoEmp  NewExist  CreateJob  RetainedJob  \\\n",
              "235392    1.0        2007    84      1         2          0            1   \n",
              "662319    1.0        2003    60      2         1          0            2   \n",
              "\n",
              "        UrbanRural   GrAppv  SBA_Appv  NAICS_21  NAICS_22  NAICS_23  \\\n",
              "235392           1  10000.0    5000.0         0         0         0   \n",
              "662319           1  20000.0   10000.0         0         0         0   \n",
              "\n",
              "        NAICS_31-33  NAICS_42  ...  NAICS_48-49  NAICS_51  NAICS_52  NAICS_53  \\\n",
              "235392            1         0  ...            0         0         0         0   \n",
              "662319            0         0  ...            0         0         0         0   \n",
              "\n",
              "        NAICS_54  NAICS_55  NAICS_56  NAICS_61  NAICS_62  NAICS_71  NAICS_72  \\\n",
              "235392         0         0         0         0         0         0         0   \n",
              "662319         0         0         0         0         0         0         0   \n",
              "\n",
              "        NAICS_81  NAICS_92  RevLineCr_Y  LowDoc_Y  \n",
              "235392         0         0            1         0  \n",
              "662319         0         0            1         0  \n",
              "\n",
              "[2 rows x 31 columns]"
            ]
          },
          "metadata": {},
          "execution_count": 35
        }
      ]
    },
    {
      "cell_type": "code",
      "metadata": {
        "colab": {
          "base_uri": "https://localhost:8080/",
          "height": 890
        },
        "id": "P3T4R3otl9PL",
        "outputId": "fdbe7121-e74b-4145-aa85-79c94f036761"
      },
      "source": [
        "log_reg = sm.Logit(y_train, X_train_eng).fit()\n",
        "log_reg.summary()"
      ],
      "execution_count": 36,
      "outputs": [
        {
          "output_type": "stream",
          "name": "stdout",
          "text": [
            "Optimization terminated successfully.\n",
            "         Current function value: 0.392148\n",
            "         Iterations 9\n"
          ]
        },
        {
          "output_type": "execute_result",
          "data": {
            "text/html": [
              "<table class=\"simpletable\">\n",
              "<caption>Logit Regression Results</caption>\n",
              "<tr>\n",
              "  <th>Dep. Variable:</th>      <td>MIS_Status</td>    <th>  No. Observations:  </th>   <td>344472</td>   \n",
              "</tr>\n",
              "<tr>\n",
              "  <th>Model:</th>                 <td>Logit</td>      <th>  Df Residuals:      </th>   <td>344441</td>   \n",
              "</tr>\n",
              "<tr>\n",
              "  <th>Method:</th>                 <td>MLE</td>       <th>  Df Model:          </th>   <td>    30</td>   \n",
              "</tr>\n",
              "<tr>\n",
              "  <th>Date:</th>            <td>Sat, 09 Oct 2021</td> <th>  Pseudo R-squ.:     </th>   <td>0.2457</td>   \n",
              "</tr>\n",
              "<tr>\n",
              "  <th>Time:</th>                <td>19:25:38</td>     <th>  Log-Likelihood:    </th> <td>-1.3508e+05</td>\n",
              "</tr>\n",
              "<tr>\n",
              "  <th>converged:</th>             <td>True</td>       <th>  LL-Null:           </th> <td>-1.7910e+05</td>\n",
              "</tr>\n",
              "<tr>\n",
              "  <th>Covariance Type:</th>     <td>nonrobust</td>    <th>  LLR p-value:       </th>   <td> 0.000</td>   \n",
              "</tr>\n",
              "</table>\n",
              "<table class=\"simpletable\">\n",
              "<tr>\n",
              "       <td></td>          <th>coef</th>     <th>std err</th>      <th>z</th>      <th>P>|z|</th>  <th>[0.025</th>    <th>0.975]</th>  \n",
              "</tr>\n",
              "<tr>\n",
              "  <th>const</th>       <td> -215.2204</td> <td>    2.920</td> <td>  -73.710</td> <td> 0.000</td> <td> -220.943</td> <td> -209.498</td>\n",
              "</tr>\n",
              "<tr>\n",
              "  <th>ApprovalFY</th>  <td>    0.1078</td> <td>    0.001</td> <td>   73.792</td> <td> 0.000</td> <td>    0.105</td> <td>    0.111</td>\n",
              "</tr>\n",
              "<tr>\n",
              "  <th>Term</th>        <td>   -0.0337</td> <td>    0.000</td> <td> -192.317</td> <td> 0.000</td> <td>   -0.034</td> <td>   -0.033</td>\n",
              "</tr>\n",
              "<tr>\n",
              "  <th>NoEmp</th>       <td>   -0.0129</td> <td>    0.001</td> <td>  -19.967</td> <td> 0.000</td> <td>   -0.014</td> <td>   -0.012</td>\n",
              "</tr>\n",
              "<tr>\n",
              "  <th>NewExist</th>    <td>   -0.0611</td> <td>    0.011</td> <td>   -5.459</td> <td> 0.000</td> <td>   -0.083</td> <td>   -0.039</td>\n",
              "</tr>\n",
              "<tr>\n",
              "  <th>CreateJob</th>   <td>    0.0012</td> <td>    0.000</td> <td>    3.711</td> <td> 0.000</td> <td>    0.001</td> <td>    0.002</td>\n",
              "</tr>\n",
              "<tr>\n",
              "  <th>RetainedJob</th> <td>   -0.0029</td> <td>    0.001</td> <td>   -3.795</td> <td> 0.000</td> <td>   -0.004</td> <td>   -0.001</td>\n",
              "</tr>\n",
              "<tr>\n",
              "  <th>UrbanRural</th>  <td>   -0.0924</td> <td>    0.012</td> <td>   -7.759</td> <td> 0.000</td> <td>   -0.116</td> <td>   -0.069</td>\n",
              "</tr>\n",
              "<tr>\n",
              "  <th>GrAppv</th>      <td>-5.001e-07</td> <td> 1.61e-07</td> <td>   -3.110</td> <td> 0.002</td> <td>-8.15e-07</td> <td>-1.85e-07</td>\n",
              "</tr>\n",
              "<tr>\n",
              "  <th>SBA_Appv</th>    <td> 2.124e-07</td> <td> 2.03e-07</td> <td>    1.048</td> <td> 0.295</td> <td>-1.85e-07</td> <td>  6.1e-07</td>\n",
              "</tr>\n",
              "<tr>\n",
              "  <th>NAICS_21</th>    <td>   -0.4013</td> <td>    0.131</td> <td>   -3.060</td> <td> 0.002</td> <td>   -0.658</td> <td>   -0.144</td>\n",
              "</tr>\n",
              "<tr>\n",
              "  <th>NAICS_22</th>    <td>    0.7088</td> <td>    0.167</td> <td>    4.237</td> <td> 0.000</td> <td>    0.381</td> <td>    1.037</td>\n",
              "</tr>\n",
              "<tr>\n",
              "  <th>NAICS_23</th>    <td>    0.7384</td> <td>    0.057</td> <td>   13.040</td> <td> 0.000</td> <td>    0.627</td> <td>    0.849</td>\n",
              "</tr>\n",
              "<tr>\n",
              "  <th>NAICS_31-33</th> <td>    0.5104</td> <td>    0.057</td> <td>    8.883</td> <td> 0.000</td> <td>    0.398</td> <td>    0.623</td>\n",
              "</tr>\n",
              "<tr>\n",
              "  <th>NAICS_42</th>    <td>    0.6407</td> <td>    0.058</td> <td>   11.103</td> <td> 0.000</td> <td>    0.528</td> <td>    0.754</td>\n",
              "</tr>\n",
              "<tr>\n",
              "  <th>NAICS_44-45</th> <td>    1.0095</td> <td>    0.056</td> <td>   18.010</td> <td> 0.000</td> <td>    0.900</td> <td>    1.119</td>\n",
              "</tr>\n",
              "<tr>\n",
              "  <th>NAICS_48-49</th> <td>    0.6769</td> <td>    0.059</td> <td>   11.381</td> <td> 0.000</td> <td>    0.560</td> <td>    0.794</td>\n",
              "</tr>\n",
              "<tr>\n",
              "  <th>NAICS_51</th>    <td>    0.8594</td> <td>    0.065</td> <td>   13.199</td> <td> 0.000</td> <td>    0.732</td> <td>    0.987</td>\n",
              "</tr>\n",
              "<tr>\n",
              "  <th>NAICS_52</th>    <td>    1.1746</td> <td>    0.065</td> <td>   18.075</td> <td> 0.000</td> <td>    1.047</td> <td>    1.302</td>\n",
              "</tr>\n",
              "<tr>\n",
              "  <th>NAICS_53</th>    <td>    1.3065</td> <td>    0.062</td> <td>   21.040</td> <td> 0.000</td> <td>    1.185</td> <td>    1.428</td>\n",
              "</tr>\n",
              "<tr>\n",
              "  <th>NAICS_54</th>    <td>    0.6026</td> <td>    0.057</td> <td>   10.584</td> <td> 0.000</td> <td>    0.491</td> <td>    0.714</td>\n",
              "</tr>\n",
              "<tr>\n",
              "  <th>NAICS_55</th>    <td>    0.9442</td> <td>    0.336</td> <td>    2.809</td> <td> 0.005</td> <td>    0.285</td> <td>    1.603</td>\n",
              "</tr>\n",
              "<tr>\n",
              "  <th>NAICS_56</th>    <td>    0.7711</td> <td>    0.059</td> <td>   13.170</td> <td> 0.000</td> <td>    0.656</td> <td>    0.886</td>\n",
              "</tr>\n",
              "<tr>\n",
              "  <th>NAICS_61</th>    <td>    0.9118</td> <td>    0.071</td> <td>   12.781</td> <td> 0.000</td> <td>    0.772</td> <td>    1.052</td>\n",
              "</tr>\n",
              "<tr>\n",
              "  <th>NAICS_62</th>    <td>    0.1837</td> <td>    0.059</td> <td>    3.090</td> <td> 0.002</td> <td>    0.067</td> <td>    0.300</td>\n",
              "</tr>\n",
              "<tr>\n",
              "  <th>NAICS_71</th>    <td>    1.0369</td> <td>    0.065</td> <td>   15.982</td> <td> 0.000</td> <td>    0.910</td> <td>    1.164</td>\n",
              "</tr>\n",
              "<tr>\n",
              "  <th>NAICS_72</th>    <td>    1.1410</td> <td>    0.058</td> <td>   19.795</td> <td> 0.000</td> <td>    1.028</td> <td>    1.254</td>\n",
              "</tr>\n",
              "<tr>\n",
              "  <th>NAICS_81</th>    <td>    0.9453</td> <td>    0.057</td> <td>   16.538</td> <td> 0.000</td> <td>    0.833</td> <td>    1.057</td>\n",
              "</tr>\n",
              "<tr>\n",
              "  <th>NAICS_92</th>    <td>    0.7275</td> <td>    0.275</td> <td>    2.649</td> <td> 0.008</td> <td>    0.189</td> <td>    1.266</td>\n",
              "</tr>\n",
              "<tr>\n",
              "  <th>RevLineCr_Y</th> <td>   -0.5837</td> <td>    0.010</td> <td>  -56.604</td> <td> 0.000</td> <td>   -0.604</td> <td>   -0.563</td>\n",
              "</tr>\n",
              "<tr>\n",
              "  <th>LowDoc_Y</th>    <td>   -1.2008</td> <td>    0.038</td> <td>  -31.911</td> <td> 0.000</td> <td>   -1.275</td> <td>   -1.127</td>\n",
              "</tr>\n",
              "</table>"
            ],
            "text/plain": [
              "<class 'statsmodels.iolib.summary.Summary'>\n",
              "\"\"\"\n",
              "                           Logit Regression Results                           \n",
              "==============================================================================\n",
              "Dep. Variable:             MIS_Status   No. Observations:               344472\n",
              "Model:                          Logit   Df Residuals:                   344441\n",
              "Method:                           MLE   Df Model:                           30\n",
              "Date:                Sat, 09 Oct 2021   Pseudo R-squ.:                  0.2457\n",
              "Time:                        19:25:38   Log-Likelihood:            -1.3508e+05\n",
              "converged:                       True   LL-Null:                   -1.7910e+05\n",
              "Covariance Type:            nonrobust   LLR p-value:                     0.000\n",
              "===============================================================================\n",
              "                  coef    std err          z      P>|z|      [0.025      0.975]\n",
              "-------------------------------------------------------------------------------\n",
              "const        -215.2204      2.920    -73.710      0.000    -220.943    -209.498\n",
              "ApprovalFY      0.1078      0.001     73.792      0.000       0.105       0.111\n",
              "Term           -0.0337      0.000   -192.317      0.000      -0.034      -0.033\n",
              "NoEmp          -0.0129      0.001    -19.967      0.000      -0.014      -0.012\n",
              "NewExist       -0.0611      0.011     -5.459      0.000      -0.083      -0.039\n",
              "CreateJob       0.0012      0.000      3.711      0.000       0.001       0.002\n",
              "RetainedJob    -0.0029      0.001     -3.795      0.000      -0.004      -0.001\n",
              "UrbanRural     -0.0924      0.012     -7.759      0.000      -0.116      -0.069\n",
              "GrAppv      -5.001e-07   1.61e-07     -3.110      0.002   -8.15e-07   -1.85e-07\n",
              "SBA_Appv     2.124e-07   2.03e-07      1.048      0.295   -1.85e-07     6.1e-07\n",
              "NAICS_21       -0.4013      0.131     -3.060      0.002      -0.658      -0.144\n",
              "NAICS_22        0.7088      0.167      4.237      0.000       0.381       1.037\n",
              "NAICS_23        0.7384      0.057     13.040      0.000       0.627       0.849\n",
              "NAICS_31-33     0.5104      0.057      8.883      0.000       0.398       0.623\n",
              "NAICS_42        0.6407      0.058     11.103      0.000       0.528       0.754\n",
              "NAICS_44-45     1.0095      0.056     18.010      0.000       0.900       1.119\n",
              "NAICS_48-49     0.6769      0.059     11.381      0.000       0.560       0.794\n",
              "NAICS_51        0.8594      0.065     13.199      0.000       0.732       0.987\n",
              "NAICS_52        1.1746      0.065     18.075      0.000       1.047       1.302\n",
              "NAICS_53        1.3065      0.062     21.040      0.000       1.185       1.428\n",
              "NAICS_54        0.6026      0.057     10.584      0.000       0.491       0.714\n",
              "NAICS_55        0.9442      0.336      2.809      0.005       0.285       1.603\n",
              "NAICS_56        0.7711      0.059     13.170      0.000       0.656       0.886\n",
              "NAICS_61        0.9118      0.071     12.781      0.000       0.772       1.052\n",
              "NAICS_62        0.1837      0.059      3.090      0.002       0.067       0.300\n",
              "NAICS_71        1.0369      0.065     15.982      0.000       0.910       1.164\n",
              "NAICS_72        1.1410      0.058     19.795      0.000       1.028       1.254\n",
              "NAICS_81        0.9453      0.057     16.538      0.000       0.833       1.057\n",
              "NAICS_92        0.7275      0.275      2.649      0.008       0.189       1.266\n",
              "RevLineCr_Y    -0.5837      0.010    -56.604      0.000      -0.604      -0.563\n",
              "LowDoc_Y       -1.2008      0.038    -31.911      0.000      -1.275      -1.127\n",
              "===============================================================================\n",
              "\"\"\""
            ]
          },
          "metadata": {},
          "execution_count": 36
        }
      ]
    },
    {
      "cell_type": "code",
      "metadata": {
        "id": "JfcHplL1l9PL"
      },
      "source": [
        "## Feature engineering\n",
        "## remove columns having p-value higher than 0.05\n",
        "def feature_eng_rev(df):\n",
        "    df = pd.get_dummies(df, columns=['NAICS'],drop_first=True, prefix='NAICS')\n",
        "    df = pd.get_dummies(df, columns=['RevLineCr'],drop_first=True, prefix='RevLineCr')\n",
        "    df = pd.get_dummies(df, columns=['LowDoc'],drop_first=True, prefix='LowDoc')\n",
        "    df = df.drop(columns=['SBA_Appv'])\n",
        "    df = sm.add_constant(df)\n",
        "\n",
        "    return df"
      ],
      "execution_count": 37,
      "outputs": []
    },
    {
      "cell_type": "code",
      "metadata": {
        "colab": {
          "base_uri": "https://localhost:8080/",
          "height": 870
        },
        "id": "JkeMf2vSl9PM",
        "outputId": "4b9a336e-776b-4156-bc9b-76b2228235aa"
      },
      "source": [
        "X_train, X_test, y_train, y_test = train_test_split(X, y, random_state=924)\n",
        "\n",
        "X_train_eng = feature_eng_rev(X_train)\n",
        "log_reg = sm.Logit(y_train, X_train_eng).fit()\n",
        "log_reg.summary()"
      ],
      "execution_count": 38,
      "outputs": [
        {
          "output_type": "stream",
          "name": "stdout",
          "text": [
            "Optimization terminated successfully.\n",
            "         Current function value: 0.392150\n",
            "         Iterations 9\n"
          ]
        },
        {
          "output_type": "execute_result",
          "data": {
            "text/html": [
              "<table class=\"simpletable\">\n",
              "<caption>Logit Regression Results</caption>\n",
              "<tr>\n",
              "  <th>Dep. Variable:</th>      <td>MIS_Status</td>    <th>  No. Observations:  </th>   <td>344472</td>   \n",
              "</tr>\n",
              "<tr>\n",
              "  <th>Model:</th>                 <td>Logit</td>      <th>  Df Residuals:      </th>   <td>344442</td>   \n",
              "</tr>\n",
              "<tr>\n",
              "  <th>Method:</th>                 <td>MLE</td>       <th>  Df Model:          </th>   <td>    29</td>   \n",
              "</tr>\n",
              "<tr>\n",
              "  <th>Date:</th>            <td>Sat, 09 Oct 2021</td> <th>  Pseudo R-squ.:     </th>   <td>0.2457</td>   \n",
              "</tr>\n",
              "<tr>\n",
              "  <th>Time:</th>                <td>19:25:54</td>     <th>  Log-Likelihood:    </th> <td>-1.3508e+05</td>\n",
              "</tr>\n",
              "<tr>\n",
              "  <th>converged:</th>             <td>True</td>       <th>  LL-Null:           </th> <td>-1.7910e+05</td>\n",
              "</tr>\n",
              "<tr>\n",
              "  <th>Covariance Type:</th>     <td>nonrobust</td>    <th>  LLR p-value:       </th>   <td> 0.000</td>   \n",
              "</tr>\n",
              "</table>\n",
              "<table class=\"simpletable\">\n",
              "<tr>\n",
              "       <td></td>          <th>coef</th>     <th>std err</th>      <th>z</th>      <th>P>|z|</th>  <th>[0.025</th>    <th>0.975]</th>  \n",
              "</tr>\n",
              "<tr>\n",
              "  <th>const</th>       <td> -215.0475</td> <td>    2.915</td> <td>  -73.762</td> <td> 0.000</td> <td> -220.762</td> <td> -209.333</td>\n",
              "</tr>\n",
              "<tr>\n",
              "  <th>ApprovalFY</th>  <td>    0.1077</td> <td>    0.001</td> <td>   73.844</td> <td> 0.000</td> <td>    0.105</td> <td>    0.111</td>\n",
              "</tr>\n",
              "<tr>\n",
              "  <th>Term</th>        <td>   -0.0337</td> <td>    0.000</td> <td> -192.364</td> <td> 0.000</td> <td>   -0.034</td> <td>   -0.033</td>\n",
              "</tr>\n",
              "<tr>\n",
              "  <th>NoEmp</th>       <td>   -0.0129</td> <td>    0.001</td> <td>  -20.006</td> <td> 0.000</td> <td>   -0.014</td> <td>   -0.012</td>\n",
              "</tr>\n",
              "<tr>\n",
              "  <th>NewExist</th>    <td>   -0.0609</td> <td>    0.011</td> <td>   -5.441</td> <td> 0.000</td> <td>   -0.083</td> <td>   -0.039</td>\n",
              "</tr>\n",
              "<tr>\n",
              "  <th>CreateJob</th>   <td>    0.0012</td> <td>    0.000</td> <td>    3.695</td> <td> 0.000</td> <td>    0.001</td> <td>    0.002</td>\n",
              "</tr>\n",
              "<tr>\n",
              "  <th>RetainedJob</th> <td>   -0.0030</td> <td>    0.001</td> <td>   -3.858</td> <td> 0.000</td> <td>   -0.004</td> <td>   -0.001</td>\n",
              "</tr>\n",
              "<tr>\n",
              "  <th>UrbanRural</th>  <td>   -0.0927</td> <td>    0.012</td> <td>   -7.784</td> <td> 0.000</td> <td>   -0.116</td> <td>   -0.069</td>\n",
              "</tr>\n",
              "<tr>\n",
              "  <th>GrAppv</th>      <td>-3.351e-07</td> <td> 3.16e-08</td> <td>  -10.616</td> <td> 0.000</td> <td>-3.97e-07</td> <td>-2.73e-07</td>\n",
              "</tr>\n",
              "<tr>\n",
              "  <th>NAICS_21</th>    <td>   -0.4030</td> <td>    0.131</td> <td>   -3.073</td> <td> 0.002</td> <td>   -0.660</td> <td>   -0.146</td>\n",
              "</tr>\n",
              "<tr>\n",
              "  <th>NAICS_22</th>    <td>    0.7072</td> <td>    0.167</td> <td>    4.227</td> <td> 0.000</td> <td>    0.379</td> <td>    1.035</td>\n",
              "</tr>\n",
              "<tr>\n",
              "  <th>NAICS_23</th>    <td>    0.7370</td> <td>    0.057</td> <td>   13.021</td> <td> 0.000</td> <td>    0.626</td> <td>    0.848</td>\n",
              "</tr>\n",
              "<tr>\n",
              "  <th>NAICS_31-33</th> <td>    0.5095</td> <td>    0.057</td> <td>    8.867</td> <td> 0.000</td> <td>    0.397</td> <td>    0.622</td>\n",
              "</tr>\n",
              "<tr>\n",
              "  <th>NAICS_42</th>    <td>    0.6396</td> <td>    0.058</td> <td>   11.087</td> <td> 0.000</td> <td>    0.527</td> <td>    0.753</td>\n",
              "</tr>\n",
              "<tr>\n",
              "  <th>NAICS_44-45</th> <td>    1.0085</td> <td>    0.056</td> <td>   17.995</td> <td> 0.000</td> <td>    0.899</td> <td>    1.118</td>\n",
              "</tr>\n",
              "<tr>\n",
              "  <th>NAICS_48-49</th> <td>    0.6759</td> <td>    0.059</td> <td>   11.366</td> <td> 0.000</td> <td>    0.559</td> <td>    0.792</td>\n",
              "</tr>\n",
              "<tr>\n",
              "  <th>NAICS_51</th>    <td>    0.8582</td> <td>    0.065</td> <td>   13.184</td> <td> 0.000</td> <td>    0.731</td> <td>    0.986</td>\n",
              "</tr>\n",
              "<tr>\n",
              "  <th>NAICS_52</th>    <td>    1.1736</td> <td>    0.065</td> <td>   18.062</td> <td> 0.000</td> <td>    1.046</td> <td>    1.301</td>\n",
              "</tr>\n",
              "<tr>\n",
              "  <th>NAICS_53</th>    <td>    1.3055</td> <td>    0.062</td> <td>   21.028</td> <td> 0.000</td> <td>    1.184</td> <td>    1.427</td>\n",
              "</tr>\n",
              "<tr>\n",
              "  <th>NAICS_54</th>    <td>    0.6013</td> <td>    0.057</td> <td>   10.564</td> <td> 0.000</td> <td>    0.490</td> <td>    0.713</td>\n",
              "</tr>\n",
              "<tr>\n",
              "  <th>NAICS_55</th>    <td>    0.9422</td> <td>    0.336</td> <td>    2.803</td> <td> 0.005</td> <td>    0.283</td> <td>    1.601</td>\n",
              "</tr>\n",
              "<tr>\n",
              "  <th>NAICS_56</th>    <td>    0.7702</td> <td>    0.059</td> <td>   13.156</td> <td> 0.000</td> <td>    0.655</td> <td>    0.885</td>\n",
              "</tr>\n",
              "<tr>\n",
              "  <th>NAICS_61</th>    <td>    0.9110</td> <td>    0.071</td> <td>   12.771</td> <td> 0.000</td> <td>    0.771</td> <td>    1.051</td>\n",
              "</tr>\n",
              "<tr>\n",
              "  <th>NAICS_62</th>    <td>    0.1824</td> <td>    0.059</td> <td>    3.069</td> <td> 0.002</td> <td>    0.066</td> <td>    0.299</td>\n",
              "</tr>\n",
              "<tr>\n",
              "  <th>NAICS_71</th>    <td>    1.0361</td> <td>    0.065</td> <td>   15.971</td> <td> 0.000</td> <td>    0.909</td> <td>    1.163</td>\n",
              "</tr>\n",
              "<tr>\n",
              "  <th>NAICS_72</th>    <td>    1.1402</td> <td>    0.058</td> <td>   19.786</td> <td> 0.000</td> <td>    1.027</td> <td>    1.253</td>\n",
              "</tr>\n",
              "<tr>\n",
              "  <th>NAICS_81</th>    <td>    0.9446</td> <td>    0.057</td> <td>   16.526</td> <td> 0.000</td> <td>    0.833</td> <td>    1.057</td>\n",
              "</tr>\n",
              "<tr>\n",
              "  <th>NAICS_92</th>    <td>    0.7264</td> <td>    0.275</td> <td>    2.645</td> <td> 0.008</td> <td>    0.188</td> <td>    1.265</td>\n",
              "</tr>\n",
              "<tr>\n",
              "  <th>RevLineCr_Y</th> <td>   -0.5848</td> <td>    0.010</td> <td>  -57.019</td> <td> 0.000</td> <td>   -0.605</td> <td>   -0.565</td>\n",
              "</tr>\n",
              "<tr>\n",
              "  <th>LowDoc_Y</th>    <td>   -1.2000</td> <td>    0.038</td> <td>  -31.896</td> <td> 0.000</td> <td>   -1.274</td> <td>   -1.126</td>\n",
              "</tr>\n",
              "</table>"
            ],
            "text/plain": [
              "<class 'statsmodels.iolib.summary.Summary'>\n",
              "\"\"\"\n",
              "                           Logit Regression Results                           \n",
              "==============================================================================\n",
              "Dep. Variable:             MIS_Status   No. Observations:               344472\n",
              "Model:                          Logit   Df Residuals:                   344442\n",
              "Method:                           MLE   Df Model:                           29\n",
              "Date:                Sat, 09 Oct 2021   Pseudo R-squ.:                  0.2457\n",
              "Time:                        19:25:54   Log-Likelihood:            -1.3508e+05\n",
              "converged:                       True   LL-Null:                   -1.7910e+05\n",
              "Covariance Type:            nonrobust   LLR p-value:                     0.000\n",
              "===============================================================================\n",
              "                  coef    std err          z      P>|z|      [0.025      0.975]\n",
              "-------------------------------------------------------------------------------\n",
              "const        -215.0475      2.915    -73.762      0.000    -220.762    -209.333\n",
              "ApprovalFY      0.1077      0.001     73.844      0.000       0.105       0.111\n",
              "Term           -0.0337      0.000   -192.364      0.000      -0.034      -0.033\n",
              "NoEmp          -0.0129      0.001    -20.006      0.000      -0.014      -0.012\n",
              "NewExist       -0.0609      0.011     -5.441      0.000      -0.083      -0.039\n",
              "CreateJob       0.0012      0.000      3.695      0.000       0.001       0.002\n",
              "RetainedJob    -0.0030      0.001     -3.858      0.000      -0.004      -0.001\n",
              "UrbanRural     -0.0927      0.012     -7.784      0.000      -0.116      -0.069\n",
              "GrAppv      -3.351e-07   3.16e-08    -10.616      0.000   -3.97e-07   -2.73e-07\n",
              "NAICS_21       -0.4030      0.131     -3.073      0.002      -0.660      -0.146\n",
              "NAICS_22        0.7072      0.167      4.227      0.000       0.379       1.035\n",
              "NAICS_23        0.7370      0.057     13.021      0.000       0.626       0.848\n",
              "NAICS_31-33     0.5095      0.057      8.867      0.000       0.397       0.622\n",
              "NAICS_42        0.6396      0.058     11.087      0.000       0.527       0.753\n",
              "NAICS_44-45     1.0085      0.056     17.995      0.000       0.899       1.118\n",
              "NAICS_48-49     0.6759      0.059     11.366      0.000       0.559       0.792\n",
              "NAICS_51        0.8582      0.065     13.184      0.000       0.731       0.986\n",
              "NAICS_52        1.1736      0.065     18.062      0.000       1.046       1.301\n",
              "NAICS_53        1.3055      0.062     21.028      0.000       1.184       1.427\n",
              "NAICS_54        0.6013      0.057     10.564      0.000       0.490       0.713\n",
              "NAICS_55        0.9422      0.336      2.803      0.005       0.283       1.601\n",
              "NAICS_56        0.7702      0.059     13.156      0.000       0.655       0.885\n",
              "NAICS_61        0.9110      0.071     12.771      0.000       0.771       1.051\n",
              "NAICS_62        0.1824      0.059      3.069      0.002       0.066       0.299\n",
              "NAICS_71        1.0361      0.065     15.971      0.000       0.909       1.163\n",
              "NAICS_72        1.1402      0.058     19.786      0.000       1.027       1.253\n",
              "NAICS_81        0.9446      0.057     16.526      0.000       0.833       1.057\n",
              "NAICS_92        0.7264      0.275      2.645      0.008       0.188       1.265\n",
              "RevLineCr_Y    -0.5848      0.010    -57.019      0.000      -0.605      -0.565\n",
              "LowDoc_Y       -1.2000      0.038    -31.896      0.000      -1.274      -1.126\n",
              "===============================================================================\n",
              "\"\"\""
            ]
          },
          "metadata": {},
          "execution_count": 38
        }
      ]
    },
    {
      "cell_type": "code",
      "metadata": {
        "colab": {
          "base_uri": "https://localhost:8080/"
        },
        "id": "YHsyZbeUl9PM",
        "outputId": "eb1d1d6d-135b-4408-ff2e-afc6a89b3242"
      },
      "source": [
        "X_train['y_pred'] = log_reg.predict(X_train_eng)\n",
        "X_train['pred_binary'] = np.where(X_train['y_pred'] > 0.5 , 1, 0)\n",
        "accuracy = accuracy_score(y_train, X_train['pred_binary'])\n",
        "\n",
        "print(accuracy)"
      ],
      "execution_count": 39,
      "outputs": [
        {
          "output_type": "stream",
          "name": "stdout",
          "text": [
            "0.8171085022875589\n"
          ]
        },
        {
          "output_type": "stream",
          "name": "stderr",
          "text": [
            "/usr/local/lib/python3.7/dist-packages/ipykernel_launcher.py:1: SettingWithCopyWarning: \n",
            "A value is trying to be set on a copy of a slice from a DataFrame.\n",
            "Try using .loc[row_indexer,col_indexer] = value instead\n",
            "\n",
            "See the caveats in the documentation: https://pandas.pydata.org/pandas-docs/stable/user_guide/indexing.html#returning-a-view-versus-a-copy\n",
            "  \"\"\"Entry point for launching an IPython kernel.\n",
            "/usr/local/lib/python3.7/dist-packages/ipykernel_launcher.py:2: SettingWithCopyWarning: \n",
            "A value is trying to be set on a copy of a slice from a DataFrame.\n",
            "Try using .loc[row_indexer,col_indexer] = value instead\n",
            "\n",
            "See the caveats in the documentation: https://pandas.pydata.org/pandas-docs/stable/user_guide/indexing.html#returning-a-view-versus-a-copy\n",
            "  \n"
          ]
        }
      ]
    },
    {
      "cell_type": "code",
      "metadata": {
        "colab": {
          "base_uri": "https://localhost:8080/"
        },
        "id": "Si9eUyKfl9PM",
        "outputId": "ac685db1-1fb3-401a-c1b4-e9fef85ab336"
      },
      "source": [
        "X_test_eng = feature_eng_rev(X_test)\n",
        "\n",
        "X_test['y_pred'] = log_reg.predict(X_test_eng)\n",
        "X_test['pred_binary'] = np.where(X_test['y_pred'] > 0.5 , 1, 0)\n",
        "\n",
        "accuracy = accuracy_score(y_test, X_test['pred_binary'])\n",
        "\n",
        "print(accuracy)"
      ],
      "execution_count": 40,
      "outputs": [
        {
          "output_type": "stream",
          "name": "stdout",
          "text": [
            "0.8182538645765295\n"
          ]
        },
        {
          "output_type": "stream",
          "name": "stderr",
          "text": [
            "/usr/local/lib/python3.7/dist-packages/ipykernel_launcher.py:3: SettingWithCopyWarning: \n",
            "A value is trying to be set on a copy of a slice from a DataFrame.\n",
            "Try using .loc[row_indexer,col_indexer] = value instead\n",
            "\n",
            "See the caveats in the documentation: https://pandas.pydata.org/pandas-docs/stable/user_guide/indexing.html#returning-a-view-versus-a-copy\n",
            "  This is separate from the ipykernel package so we can avoid doing imports until\n",
            "/usr/local/lib/python3.7/dist-packages/ipykernel_launcher.py:4: SettingWithCopyWarning: \n",
            "A value is trying to be set on a copy of a slice from a DataFrame.\n",
            "Try using .loc[row_indexer,col_indexer] = value instead\n",
            "\n",
            "See the caveats in the documentation: https://pandas.pydata.org/pandas-docs/stable/user_guide/indexing.html#returning-a-view-versus-a-copy\n",
            "  after removing the cwd from sys.path.\n"
          ]
        }
      ]
    },
    {
      "cell_type": "code",
      "metadata": {
        "id": "YKIAYF1yl9PN"
      },
      "source": [
        "def produce_confusion(positive_label, negative_label, y_pred, y_real):\n",
        "    \n",
        "    #Build the CM\n",
        "    cm = confusion_matrix(y_true, y_pred)  \n",
        "    \n",
        "    ax= plt.subplot()\n",
        "    sns.heatmap(cm, annot=True, ax=ax, fmt='g'); \n",
        "\n",
        "    # labels, title, ticks\n",
        "    ax.set_xlabel('Predicted labels');\n",
        "    ax.set_ylabel('Real labels'); \n",
        "    ax.set_title('Confusion Matrix'); \n",
        "    ax.xaxis.set_ticklabels(['Paid in Full', 'Default'])\n",
        "    ax.yaxis.set_ticklabels(['Paid in Full', 'Default']);\n",
        "\n",
        "    return None"
      ],
      "execution_count": 41,
      "outputs": []
    },
    {
      "cell_type": "code",
      "metadata": {
        "colab": {
          "base_uri": "https://localhost:8080/",
          "height": 455
        },
        "id": "Vqd3TyDWd9iq",
        "outputId": "95fecb57-cf4d-4aa1-b29e-9470340991ea"
      },
      "source": [
        "y_true = y_test\n",
        "y_pred = X_test['pred_binary']\n",
        "\n",
        "print(classification_report(y_test, y_pred))\n",
        "\n",
        "## confusion matrix\n",
        "produce_confusion(1, 0, y_pred, y_true)"
      ],
      "execution_count": 42,
      "outputs": [
        {
          "output_type": "stream",
          "name": "stdout",
          "text": [
            "              precision    recall  f1-score   support\n",
            "\n",
            "           0       0.84      0.94      0.89     90194\n",
            "           1       0.63      0.36      0.46     24631\n",
            "\n",
            "    accuracy                           0.82    114825\n",
            "   macro avg       0.74      0.65      0.68    114825\n",
            "weighted avg       0.80      0.82      0.80    114825\n",
            "\n"
          ]
        },
        {
          "output_type": "display_data",
          "data": {
            "image/png": "[encoded data removed]",
            "text/plain": [
              "<Figure size 432x288 with 2 Axes>"
            ]
          },
          "metadata": {
            "needs_background": "light"
          }
        }
      ]
    },
    {
      "cell_type": "code",
      "metadata": {
        "colab": {
          "base_uri": "https://localhost:8080/",
          "height": 455
        },
        "id": "MPbpPoivl9PO",
        "outputId": "11867fef-ad52-4b77-b3e9-266bf3af9053"
      },
      "source": [
        "y_true = y_test\n",
        "y_pred = X_test['pred_binary']\n",
        "\n",
        "print(classification_report(y_test, y_pred))\n",
        "\n",
        "## confusion matrix\n",
        "produce_confusion(1, 0, y_pred, y_true)"
      ],
      "execution_count": 43,
      "outputs": [
        {
          "output_type": "stream",
          "name": "stdout",
          "text": [
            "              precision    recall  f1-score   support\n",
            "\n",
            "           0       0.84      0.94      0.89     90194\n",
            "           1       0.63      0.36      0.46     24631\n",
            "\n",
            "    accuracy                           0.82    114825\n",
            "   macro avg       0.74      0.65      0.68    114825\n",
            "weighted avg       0.80      0.82      0.80    114825\n",
            "\n"
          ]
        },
        {
          "output_type": "display_data",
          "data": {
            "image/png": "[encoded data removed]",
            "text/plain": [
              "<Figure size 432x288 with 2 Axes>"
            ]
          },
          "metadata": {
            "needs_background": "light"
          }
        }
      ]
    },
    {
      "cell_type": "code",
      "metadata": {
        "id": "O6vug56rd9iq"
      },
      "source": [
        "## Feature engineering\n",
        "## remove columns having p-value higher than 0.05\n",
        "def feature_eng_rev(df):\n",
        "    df = pd.get_dummies(df, columns=['NAICS'],drop_first=True, prefix='NAICS')\n",
        "    df = pd.get_dummies(df, columns=['RevLineCr'],drop_first=True, prefix='RevLineCr')\n",
        "    df = pd.get_dummies(df, columns=['LowDoc'],drop_first=True, prefix='LowDoc')\n",
        "    df = df.drop(columns=['SBA_Appv', 'ApprovalFY'])\n",
        "    df.GrAppv = np.log(df.GrAppv)\n",
        "    #df.ApprovalFY = np.log(df.ApprovalFY)\n",
        "    df = sm.add_constant(df)\n",
        "    \n",
        "\n",
        "    return df"
      ],
      "execution_count": 44,
      "outputs": []
    },
    {
      "cell_type": "code",
      "metadata": {
        "colab": {
          "base_uri": "https://localhost:8080/",
          "height": 849
        },
        "id": "kDEgHztod9iq",
        "outputId": "ddec809f-7d5b-41df-c9c3-1c371796f221"
      },
      "source": [
        "X_train, X_test, y_train, y_test = train_test_split(X, y, random_state=924)\n",
        "\n",
        "X_train_eng = feature_eng_rev(X_train)\n",
        "log_reg = sm.Logit(y_train, X_train_eng).fit()\n",
        "log_reg.summary()"
      ],
      "execution_count": 45,
      "outputs": [
        {
          "output_type": "stream",
          "name": "stdout",
          "text": [
            "Optimization terminated successfully.\n",
            "         Current function value: 0.399668\n",
            "         Iterations 8\n"
          ]
        },
        {
          "output_type": "execute_result",
          "data": {
            "text/html": [
              "<table class=\"simpletable\">\n",
              "<caption>Logit Regression Results</caption>\n",
              "<tr>\n",
              "  <th>Dep. Variable:</th>      <td>MIS_Status</td>    <th>  No. Observations:  </th>   <td>344472</td>   \n",
              "</tr>\n",
              "<tr>\n",
              "  <th>Model:</th>                 <td>Logit</td>      <th>  Df Residuals:      </th>   <td>344443</td>   \n",
              "</tr>\n",
              "<tr>\n",
              "  <th>Method:</th>                 <td>MLE</td>       <th>  Df Model:          </th>   <td>    28</td>   \n",
              "</tr>\n",
              "<tr>\n",
              "  <th>Date:</th>            <td>Sat, 09 Oct 2021</td> <th>  Pseudo R-squ.:     </th>   <td>0.2313</td>   \n",
              "</tr>\n",
              "<tr>\n",
              "  <th>Time:</th>                <td>19:26:14</td>     <th>  Log-Likelihood:    </th> <td>-1.3767e+05</td>\n",
              "</tr>\n",
              "<tr>\n",
              "  <th>converged:</th>             <td>True</td>       <th>  LL-Null:           </th> <td>-1.7910e+05</td>\n",
              "</tr>\n",
              "<tr>\n",
              "  <th>Covariance Type:</th>     <td>nonrobust</td>    <th>  LLR p-value:       </th>   <td> 0.000</td>   \n",
              "</tr>\n",
              "</table>\n",
              "<table class=\"simpletable\">\n",
              "<tr>\n",
              "       <td></td>          <th>coef</th>     <th>std err</th>      <th>z</th>      <th>P>|z|</th>  <th>[0.025</th>    <th>0.975]</th>  \n",
              "</tr>\n",
              "<tr>\n",
              "  <th>const</th>       <td>    1.6672</td> <td>    0.079</td> <td>   21.103</td> <td> 0.000</td> <td>    1.512</td> <td>    1.822</td>\n",
              "</tr>\n",
              "<tr>\n",
              "  <th>Term</th>        <td>   -0.0333</td> <td>    0.000</td> <td> -193.467</td> <td> 0.000</td> <td>   -0.034</td> <td>   -0.033</td>\n",
              "</tr>\n",
              "<tr>\n",
              "  <th>NoEmp</th>       <td>   -0.0183</td> <td>    0.001</td> <td>  -27.975</td> <td> 0.000</td> <td>   -0.020</td> <td>   -0.017</td>\n",
              "</tr>\n",
              "<tr>\n",
              "  <th>NewExist</th>    <td>   -0.0247</td> <td>    0.011</td> <td>   -2.233</td> <td> 0.026</td> <td>   -0.046</td> <td>   -0.003</td>\n",
              "</tr>\n",
              "<tr>\n",
              "  <th>CreateJob</th>   <td>    0.0016</td> <td>    0.000</td> <td>    4.618</td> <td> 0.000</td> <td>    0.001</td> <td>    0.002</td>\n",
              "</tr>\n",
              "<tr>\n",
              "  <th>RetainedJob</th> <td>    0.0076</td> <td>    0.001</td> <td>   10.756</td> <td> 0.000</td> <td>    0.006</td> <td>    0.009</td>\n",
              "</tr>\n",
              "<tr>\n",
              "  <th>UrbanRural</th>  <td>    0.3576</td> <td>    0.010</td> <td>   36.810</td> <td> 0.000</td> <td>    0.339</td> <td>    0.377</td>\n",
              "</tr>\n",
              "<tr>\n",
              "  <th>GrAppv</th>      <td>   -0.1402</td> <td>    0.005</td> <td>  -28.491</td> <td> 0.000</td> <td>   -0.150</td> <td>   -0.131</td>\n",
              "</tr>\n",
              "<tr>\n",
              "  <th>NAICS_21</th>    <td>   -0.2700</td> <td>    0.128</td> <td>   -2.104</td> <td> 0.035</td> <td>   -0.522</td> <td>   -0.018</td>\n",
              "</tr>\n",
              "<tr>\n",
              "  <th>NAICS_22</th>    <td>    0.8701</td> <td>    0.165</td> <td>    5.286</td> <td> 0.000</td> <td>    0.547</td> <td>    1.193</td>\n",
              "</tr>\n",
              "<tr>\n",
              "  <th>NAICS_23</th>    <td>    0.8911</td> <td>    0.055</td> <td>   16.123</td> <td> 0.000</td> <td>    0.783</td> <td>    0.999</td>\n",
              "</tr>\n",
              "<tr>\n",
              "  <th>NAICS_31-33</th> <td>    0.6433</td> <td>    0.056</td> <td>   11.459</td> <td> 0.000</td> <td>    0.533</td> <td>    0.753</td>\n",
              "</tr>\n",
              "<tr>\n",
              "  <th>NAICS_42</th>    <td>    0.8080</td> <td>    0.056</td> <td>   14.339</td> <td> 0.000</td> <td>    0.698</td> <td>    0.918</td>\n",
              "</tr>\n",
              "<tr>\n",
              "  <th>NAICS_44-45</th> <td>    1.1237</td> <td>    0.055</td> <td>   20.549</td> <td> 0.000</td> <td>    1.017</td> <td>    1.231</td>\n",
              "</tr>\n",
              "<tr>\n",
              "  <th>NAICS_48-49</th> <td>    0.8844</td> <td>    0.058</td> <td>   15.214</td> <td> 0.000</td> <td>    0.770</td> <td>    0.998</td>\n",
              "</tr>\n",
              "<tr>\n",
              "  <th>NAICS_51</th>    <td>    1.0444</td> <td>    0.064</td> <td>   16.369</td> <td> 0.000</td> <td>    0.919</td> <td>    1.170</td>\n",
              "</tr>\n",
              "<tr>\n",
              "  <th>NAICS_52</th>    <td>    1.4006</td> <td>    0.064</td> <td>   21.985</td> <td> 0.000</td> <td>    1.276</td> <td>    1.525</td>\n",
              "</tr>\n",
              "<tr>\n",
              "  <th>NAICS_53</th>    <td>    1.4911</td> <td>    0.061</td> <td>   24.560</td> <td> 0.000</td> <td>    1.372</td> <td>    1.610</td>\n",
              "</tr>\n",
              "<tr>\n",
              "  <th>NAICS_54</th>    <td>    0.7965</td> <td>    0.056</td> <td>   14.338</td> <td> 0.000</td> <td>    0.688</td> <td>    0.905</td>\n",
              "</tr>\n",
              "<tr>\n",
              "  <th>NAICS_55</th>    <td>    1.2555</td> <td>    0.336</td> <td>    3.735</td> <td> 0.000</td> <td>    0.597</td> <td>    1.914</td>\n",
              "</tr>\n",
              "<tr>\n",
              "  <th>NAICS_56</th>    <td>    0.9238</td> <td>    0.057</td> <td>   16.143</td> <td> 0.000</td> <td>    0.812</td> <td>    1.036</td>\n",
              "</tr>\n",
              "<tr>\n",
              "  <th>NAICS_61</th>    <td>    1.1283</td> <td>    0.070</td> <td>   16.085</td> <td> 0.000</td> <td>    0.991</td> <td>    1.266</td>\n",
              "</tr>\n",
              "<tr>\n",
              "  <th>NAICS_62</th>    <td>    0.3664</td> <td>    0.058</td> <td>    6.311</td> <td> 0.000</td> <td>    0.253</td> <td>    0.480</td>\n",
              "</tr>\n",
              "<tr>\n",
              "  <th>NAICS_71</th>    <td>    1.1923</td> <td>    0.064</td> <td>   18.773</td> <td> 0.000</td> <td>    1.068</td> <td>    1.317</td>\n",
              "</tr>\n",
              "<tr>\n",
              "  <th>NAICS_72</th>    <td>    1.3733</td> <td>    0.056</td> <td>   24.405</td> <td> 0.000</td> <td>    1.263</td> <td>    1.484</td>\n",
              "</tr>\n",
              "<tr>\n",
              "  <th>NAICS_81</th>    <td>    1.0810</td> <td>    0.056</td> <td>   19.374</td> <td> 0.000</td> <td>    0.972</td> <td>    1.190</td>\n",
              "</tr>\n",
              "<tr>\n",
              "  <th>NAICS_92</th>    <td>    0.8282</td> <td>    0.273</td> <td>    3.038</td> <td> 0.002</td> <td>    0.294</td> <td>    1.363</td>\n",
              "</tr>\n",
              "<tr>\n",
              "  <th>RevLineCr_Y</th> <td>   -0.6082</td> <td>    0.010</td> <td>  -58.344</td> <td> 0.000</td> <td>   -0.629</td> <td>   -0.588</td>\n",
              "</tr>\n",
              "<tr>\n",
              "  <th>LowDoc_Y</th>    <td>   -1.6635</td> <td>    0.037</td> <td>  -45.307</td> <td> 0.000</td> <td>   -1.735</td> <td>   -1.591</td>\n",
              "</tr>\n",
              "</table>"
            ],
            "text/plain": [
              "<class 'statsmodels.iolib.summary.Summary'>\n",
              "\"\"\"\n",
              "                           Logit Regression Results                           \n",
              "==============================================================================\n",
              "Dep. Variable:             MIS_Status   No. Observations:               344472\n",
              "Model:                          Logit   Df Residuals:                   344443\n",
              "Method:                           MLE   Df Model:                           28\n",
              "Date:                Sat, 09 Oct 2021   Pseudo R-squ.:                  0.2313\n",
              "Time:                        19:26:14   Log-Likelihood:            -1.3767e+05\n",
              "converged:                       True   LL-Null:                   -1.7910e+05\n",
              "Covariance Type:            nonrobust   LLR p-value:                     0.000\n",
              "===============================================================================\n",
              "                  coef    std err          z      P>|z|      [0.025      0.975]\n",
              "-------------------------------------------------------------------------------\n",
              "const           1.6672      0.079     21.103      0.000       1.512       1.822\n",
              "Term           -0.0333      0.000   -193.467      0.000      -0.034      -0.033\n",
              "NoEmp          -0.0183      0.001    -27.975      0.000      -0.020      -0.017\n",
              "NewExist       -0.0247      0.011     -2.233      0.026      -0.046      -0.003\n",
              "CreateJob       0.0016      0.000      4.618      0.000       0.001       0.002\n",
              "RetainedJob     0.0076      0.001     10.756      0.000       0.006       0.009\n",
              "UrbanRural      0.3576      0.010     36.810      0.000       0.339       0.377\n",
              "GrAppv         -0.1402      0.005    -28.491      0.000      -0.150      -0.131\n",
              "NAICS_21       -0.2700      0.128     -2.104      0.035      -0.522      -0.018\n",
              "NAICS_22        0.8701      0.165      5.286      0.000       0.547       1.193\n",
              "NAICS_23        0.8911      0.055     16.123      0.000       0.783       0.999\n",
              "NAICS_31-33     0.6433      0.056     11.459      0.000       0.533       0.753\n",
              "NAICS_42        0.8080      0.056     14.339      0.000       0.698       0.918\n",
              "NAICS_44-45     1.1237      0.055     20.549      0.000       1.017       1.231\n",
              "NAICS_48-49     0.8844      0.058     15.214      0.000       0.770       0.998\n",
              "NAICS_51        1.0444      0.064     16.369      0.000       0.919       1.170\n",
              "NAICS_52        1.4006      0.064     21.985      0.000       1.276       1.525\n",
              "NAICS_53        1.4911      0.061     24.560      0.000       1.372       1.610\n",
              "NAICS_54        0.7965      0.056     14.338      0.000       0.688       0.905\n",
              "NAICS_55        1.2555      0.336      3.735      0.000       0.597       1.914\n",
              "NAICS_56        0.9238      0.057     16.143      0.000       0.812       1.036\n",
              "NAICS_61        1.1283      0.070     16.085      0.000       0.991       1.266\n",
              "NAICS_62        0.3664      0.058      6.311      0.000       0.253       0.480\n",
              "NAICS_71        1.1923      0.064     18.773      0.000       1.068       1.317\n",
              "NAICS_72        1.3733      0.056     24.405      0.000       1.263       1.484\n",
              "NAICS_81        1.0810      0.056     19.374      0.000       0.972       1.190\n",
              "NAICS_92        0.8282      0.273      3.038      0.002       0.294       1.363\n",
              "RevLineCr_Y    -0.6082      0.010    -58.344      0.000      -0.629      -0.588\n",
              "LowDoc_Y       -1.6635      0.037    -45.307      0.000      -1.735      -1.591\n",
              "===============================================================================\n",
              "\"\"\""
            ]
          },
          "metadata": {},
          "execution_count": 45
        }
      ]
    },
    {
      "cell_type": "code",
      "metadata": {
        "colab": {
          "base_uri": "https://localhost:8080/"
        },
        "id": "-xZTGKyTd9iq",
        "outputId": "258ffd9c-e31e-4a4c-edbe-616ce3b3accc"
      },
      "source": [
        "X_train['y_pred'] = log_reg.predict(X_train_eng)\n",
        "X_train['pred_binary'] = np.where(X_train['y_pred'] > 0.5 , 1, 0)\n",
        "accuracy = accuracy_score(y_train, X_train['pred_binary'])\n",
        "\n",
        "print(accuracy)"
      ],
      "execution_count": 46,
      "outputs": [
        {
          "output_type": "stream",
          "name": "stdout",
          "text": [
            "0.8132097819271232\n"
          ]
        },
        {
          "output_type": "stream",
          "name": "stderr",
          "text": [
            "/usr/local/lib/python3.7/dist-packages/ipykernel_launcher.py:1: SettingWithCopyWarning: \n",
            "A value is trying to be set on a copy of a slice from a DataFrame.\n",
            "Try using .loc[row_indexer,col_indexer] = value instead\n",
            "\n",
            "See the caveats in the documentation: https://pandas.pydata.org/pandas-docs/stable/user_guide/indexing.html#returning-a-view-versus-a-copy\n",
            "  \"\"\"Entry point for launching an IPython kernel.\n",
            "/usr/local/lib/python3.7/dist-packages/ipykernel_launcher.py:2: SettingWithCopyWarning: \n",
            "A value is trying to be set on a copy of a slice from a DataFrame.\n",
            "Try using .loc[row_indexer,col_indexer] = value instead\n",
            "\n",
            "See the caveats in the documentation: https://pandas.pydata.org/pandas-docs/stable/user_guide/indexing.html#returning-a-view-versus-a-copy\n",
            "  \n"
          ]
        }
      ]
    },
    {
      "cell_type": "code",
      "metadata": {
        "colab": {
          "base_uri": "https://localhost:8080/"
        },
        "id": "W75xTOild9ir",
        "outputId": "9e057927-aa03-4771-ca71-648e2f4ddaa3"
      },
      "source": [
        "X_test_eng = feature_eng_rev(X_test)\n",
        "\n",
        "X_test['y_pred'] = log_reg.predict(X_test_eng)\n",
        "X_test['pred_binary'] = np.where(X_test['y_pred'] > 0.5 , 1, 0)\n",
        "\n",
        "accuracy = accuracy_score(y_test, X_test['pred_binary'])\n",
        "\n",
        "print(accuracy)"
      ],
      "execution_count": 47,
      "outputs": [
        {
          "output_type": "stream",
          "name": "stdout",
          "text": [
            "0.8133855867624646\n"
          ]
        },
        {
          "output_type": "stream",
          "name": "stderr",
          "text": [
            "/usr/local/lib/python3.7/dist-packages/ipykernel_launcher.py:3: SettingWithCopyWarning: \n",
            "A value is trying to be set on a copy of a slice from a DataFrame.\n",
            "Try using .loc[row_indexer,col_indexer] = value instead\n",
            "\n",
            "See the caveats in the documentation: https://pandas.pydata.org/pandas-docs/stable/user_guide/indexing.html#returning-a-view-versus-a-copy\n",
            "  This is separate from the ipykernel package so we can avoid doing imports until\n",
            "/usr/local/lib/python3.7/dist-packages/ipykernel_launcher.py:4: SettingWithCopyWarning: \n",
            "A value is trying to be set on a copy of a slice from a DataFrame.\n",
            "Try using .loc[row_indexer,col_indexer] = value instead\n",
            "\n",
            "See the caveats in the documentation: https://pandas.pydata.org/pandas-docs/stable/user_guide/indexing.html#returning-a-view-versus-a-copy\n",
            "  after removing the cwd from sys.path.\n"
          ]
        }
      ]
    },
    {
      "cell_type": "code",
      "metadata": {
        "colab": {
          "base_uri": "https://localhost:8080/",
          "height": 455
        },
        "id": "5BMFOlwvhaKN",
        "outputId": "2050b22f-e995-48c9-f991-532c8b615ae1"
      },
      "source": [
        "y_true = y_test\n",
        "y_pred = X_test['pred_binary']\n",
        "\n",
        "print(classification_report(y_test, y_pred))\n",
        "\n",
        "## confusion matrix\n",
        "produce_confusion(1, 0, y_pred, y_true)"
      ],
      "execution_count": 48,
      "outputs": [
        {
          "output_type": "stream",
          "name": "stdout",
          "text": [
            "              precision    recall  f1-score   support\n",
            "\n",
            "           0       0.84      0.94      0.89     90194\n",
            "           1       0.62      0.34      0.44     24631\n",
            "\n",
            "    accuracy                           0.81    114825\n",
            "   macro avg       0.73      0.64      0.66    114825\n",
            "weighted avg       0.79      0.81      0.79    114825\n",
            "\n"
          ]
        },
        {
          "output_type": "display_data",
          "data": {
            "image/png": "[encoded data removed]",
            "text/plain": [
              "<Figure size 432x288 with 2 Axes>"
            ]
          },
          "metadata": {
            "needs_background": "light"
          }
        }
      ]
    },
    {
      "cell_type": "markdown",
      "metadata": {
        "id": "ZWeTkLUgl9PO"
      },
      "source": [
        "Label distribution <br>\n",
        "- <b>0</b>, paid in full:    360762 \n",
        "- <b>1</b>, default (charged off):     98535 \n",
        "\n",
        "As the data has imbalanced labels, our model tends to produce lots of false negatives (predict 0 for the data entry with a real label of 1), which leads to poor recall, 0.33."
      ]
    },
    {
      "cell_type": "markdown",
      "metadata": {
        "id": "IIZdncPrl9PP"
      },
      "source": [
        "#### <a id = \"6\"> 4-2. Random Forests</a>"
      ]
    },
    {
      "cell_type": "code",
      "metadata": {
        "id": "6-zbUlWWd9ir"
      },
      "source": [
        "## Feature engineering\n",
        "## remove columns having p-value higher than 0.05\n",
        "def feature_eng_rf(df):\n",
        "    df = pd.get_dummies(df, columns=['NAICS'],drop_first=True, prefix='NAICS')\n",
        "    df = pd.get_dummies(df, columns=['RevLineCr'],drop_first=True, prefix='RevLineCr')\n",
        "    df = pd.get_dummies(df, columns=['LowDoc'],drop_first=True, prefix='LowDoc')\n",
        "    df = df.drop(columns=['SBA_Appv'])\n",
        "\n",
        "    return df"
      ],
      "execution_count": 49,
      "outputs": []
    },
    {
      "cell_type": "code",
      "metadata": {
        "id": "CxBglswQl9PQ"
      },
      "source": [
        "rf = RandomForestClassifier(n_estimators=50)"
      ],
      "execution_count": 50,
      "outputs": []
    },
    {
      "cell_type": "code",
      "metadata": {
        "colab": {
          "base_uri": "https://localhost:8080/"
        },
        "id": "U0qH9tEQl9PQ",
        "outputId": "139dff8a-7a85-4dfa-cd52-bcc5bda3646e"
      },
      "source": [
        "X_train, X_test, y_train, y_test = train_test_split(X, y, random_state=924)\n",
        "\n",
        "X_train_eng = feature_eng_rf(X_train)\n",
        "\n",
        "rf.fit(X_train_eng, y_train)"
      ],
      "execution_count": 51,
      "outputs": [
        {
          "output_type": "execute_result",
          "data": {
            "text/plain": [
              "RandomForestClassifier(bootstrap=True, ccp_alpha=0.0, class_weight=None,\n",
              "                       criterion='gini', max_depth=None, max_features='auto',\n",
              "                       max_leaf_nodes=None, max_samples=None,\n",
              "                       min_impurity_decrease=0.0, min_impurity_split=None,\n",
              "                       min_samples_leaf=1, min_samples_split=2,\n",
              "                       min_weight_fraction_leaf=0.0, n_estimators=50,\n",
              "                       n_jobs=None, oob_score=False, random_state=None,\n",
              "                       verbose=0, warm_start=False)"
            ]
          },
          "metadata": {},
          "execution_count": 51
        }
      ]
    },
    {
      "cell_type": "code",
      "metadata": {
        "colab": {
          "base_uri": "https://localhost:8080/"
        },
        "id": "eg6zTn4bl9PR",
        "outputId": "121695d1-fa84-46cc-dcc4-f00ea7bed210"
      },
      "source": [
        "rf.score(X_train_eng, y_train)"
      ],
      "execution_count": 52,
      "outputs": [
        {
          "output_type": "execute_result",
          "data": {
            "text/plain": [
              "0.9984875403516106"
            ]
          },
          "metadata": {},
          "execution_count": 52
        }
      ]
    },
    {
      "cell_type": "code",
      "metadata": {
        "colab": {
          "base_uri": "https://localhost:8080/",
          "height": 455
        },
        "id": "psS9vPtRd9is",
        "outputId": "509aa4a5-478b-487a-bdc6-33bad2cfd4b4"
      },
      "source": [
        "X_test_eng = feature_eng_rf(X_test)\n",
        "\n",
        "## predict on the test set\n",
        "rf_pred = rf.predict(X_test_eng)\n",
        "\n",
        "print(classification_report(y_test, rf_pred))\n",
        "\n",
        "produce_confusion(1, 0, rf_pred, y_test)"
      ],
      "execution_count": 53,
      "outputs": [
        {
          "output_type": "stream",
          "name": "stdout",
          "text": [
            "              precision    recall  f1-score   support\n",
            "\n",
            "           0       0.95      0.97      0.96     90194\n",
            "           1       0.87      0.81      0.84     24631\n",
            "\n",
            "    accuracy                           0.93    114825\n",
            "   macro avg       0.91      0.89      0.90    114825\n",
            "weighted avg       0.93      0.93      0.93    114825\n",
            "\n"
          ]
        },
        {
          "output_type": "display_data",
          "data": {
            "image/png": "[encoded data removed]",
            "text/plain": [
              "<Figure size 432x288 with 2 Axes>"
            ]
          },
          "metadata": {
            "needs_background": "light"
          }
        }
      ]
    },
    {
      "cell_type": "code",
      "metadata": {
        "colab": {
          "base_uri": "https://localhost:8080/"
        },
        "id": "EZ7yfuZYl9PU",
        "outputId": "3f78aa1b-a666-4578-f4ec-a85ef8e507c4"
      },
      "source": [
        "## parameters tuning\n",
        "rf_params = {\n",
        "    'n_estimators': [100, 150, 200],\n",
        "    'max_depth': [None, 1, 2, 4, 6, 8, 10],\n",
        "    'min_samples_leaf': [2, 3, 5],\n",
        "    'min_samples_split': [5, 10]\n",
        "}\n",
        "\n",
        "grid_cv = GridSearchCV(rf, param_grid=rf_params, cv=5)\n",
        "grid_cv.fit(X_train_eng, y_train)\n",
        "\n",
        "print(f'best accuracy: {grid_cv.best_score_}')\n",
        "print(f'best parameters: {grid_cv.best_params_}')"
      ],
      "execution_count": null,
      "outputs": [
        {
          "name": "stdout",
          "output_type": "stream",
          "text": [
            "best accuracy: 0.9344058991117814\n",
            "best parameters: {'max_depth': None, 'min_samples_leaf': 2, 'min_samples_split': 5, 'n_estimators': 200}\n"
          ]
        }
      ]
    },
    {
      "cell_type": "code",
      "metadata": {
        "colab": {
          "base_uri": "https://localhost:8080/"
        },
        "id": "97r8hw3o_b9E",
        "outputId": "797b9c49-0ca2-439d-9dd2-c272026ec4e1"
      },
      "source": [
        "grid_cv.score(X_train_eng, y_train)"
      ],
      "execution_count": null,
      "outputs": [
        {
          "data": {
            "text/plain": [
              "0.9640355287414111"
            ]
          },
          "execution_count": 76,
          "metadata": {},
          "output_type": "execute_result"
        }
      ]
    },
    {
      "cell_type": "code",
      "metadata": {
        "id": "R0nwgeOnJnbH"
      },
      "source": [
        "## Retrain the model with the best parameters\n",
        "rf_best = RandomForestClassifier(n_estimators=200, min_samples_leaf=2, min_samples_split=5)"
      ],
      "execution_count": 54,
      "outputs": []
    },
    {
      "cell_type": "code",
      "metadata": {
        "colab": {
          "base_uri": "https://localhost:8080/"
        },
        "id": "NYuLdrb5KENy",
        "outputId": "20db7616-0cd4-4e96-845c-b79011049904"
      },
      "source": [
        "rf_best.fit(X_train_eng, y_train)\n",
        "\n",
        "print(rf_best.score(X_train_eng, y_train))"
      ],
      "execution_count": 55,
      "outputs": [
        {
          "output_type": "stream",
          "name": "stdout",
          "text": [
            "0.9670771499570356\n"
          ]
        }
      ]
    },
    {
      "cell_type": "code",
      "metadata": {
        "colab": {
          "base_uri": "https://localhost:8080/",
          "height": 455
        },
        "id": "pXFGNFJ7d9it",
        "outputId": "e6463b82-b6f1-40ba-be05-34b8160d1796"
      },
      "source": [
        "X_test_eng = feature_eng_rf(X_test)\n",
        "\n",
        "## predict on the test set\n",
        "rf_best_pred = rf_best.predict(X_test_eng)\n",
        "\n",
        "print(classification_report(y_test, rf_best_pred))\n",
        "\n",
        "produce_confusion(1, 0, rf_best_pred, y_test)"
      ],
      "execution_count": 56,
      "outputs": [
        {
          "output_type": "stream",
          "name": "stdout",
          "text": [
            "              precision    recall  f1-score   support\n",
            "\n",
            "           0       0.95      0.97      0.96     90194\n",
            "           1       0.87      0.82      0.84     24631\n",
            "\n",
            "    accuracy                           0.93    114825\n",
            "   macro avg       0.91      0.89      0.90    114825\n",
            "weighted avg       0.93      0.93      0.93    114825\n",
            "\n"
          ]
        },
        {
          "output_type": "display_data",
          "data": {
            "image/png": "[encoded data removed]",
            "text/plain": [
              "<Figure size 432x288 with 2 Axes>"
            ]
          },
          "metadata": {
            "needs_background": "light"
          }
        }
      ]
    },
    {
      "cell_type": "code",
      "metadata": {
        "id": "lh9ZO-QId9it",
        "outputId": "6b0f0e7d-2a5b-469b-e254-b76b48a3b4fc"
      },
      "source": [
        "y_score = rf_best.predict_proba(X_test_eng)[:,1]\n",
        "\n",
        "fp, tp, thresh = roc_curve(y_test, y_score)\n",
        "print(f'roc_auc_score for random forests: {roc_auc_score(y_test, y_score)}')"
      ],
      "execution_count": null,
      "outputs": [
        {
          "name": "stdout",
          "output_type": "stream",
          "text": [
            "roc_auc_score for random forests: 0.9701000704811065\n"
          ]
        }
      ]
    },
    {
      "cell_type": "code",
      "metadata": {
        "id": "1u61Cybmd9it",
        "outputId": "da59c16f-c990-4b58-8ee0-319c83183576"
      },
      "source": [
        "plt.plot(fp, tp, label=f'AUC Random Forests: {round(roc_auc_score(y_test,y_score),3)}')\n",
        "plt.plot([0,1],[0,1],'r--')\n",
        "plt.xlim([0,1])\n",
        "plt.ylim([0,1])\n",
        "plt.title('ROC Random Forests')\n",
        "plt.ylabel('True Positive Rate')\n",
        "plt.xlabel('False Positive Rate')\n",
        "plt.fill_between(fp, tp, 0, facecolor='azure', alpha=1)\n",
        "plt.legend(loc='lower right')\n",
        "plt.show()"
      ],
      "execution_count": null,
      "outputs": [
        {
          "data": {
            "image/png": "[encoded data removed]",
            "text/plain": [
              "<Figure size 432x288 with 1 Axes>"
            ]
          },
          "metadata": {
            "needs_background": "light"
          },
          "output_type": "display_data"
        }
      ]
    },
    {
      "cell_type": "code",
      "metadata": {
        "colab": {
          "base_uri": "https://localhost:8080/",
          "height": 281
        },
        "id": "y-641Qptgq_F",
        "outputId": "2e551ee9-159a-4b5a-f3c2-3128868ba008"
      },
      "source": [
        "feature_selection = pd.Series(rf_best.feature_importances_, index = X_train_eng.columns)\n",
        "top5_feature = feature_selection.sort_values(ascending=False).head()\n",
        "\n",
        "plt.figure(figsize=(10,4))\n",
        "plt.title('Top 5 Important Features')\n",
        "sns.barplot(x = top5_feature, y = top5_feature.index)\n",
        "plt.show()"
      ],
      "execution_count": null,
      "outputs": [
        {
          "data": {
            "image/png": "[encoded data removed]",
            "text/plain": [
              "<Figure size 720x288 with 1 Axes>"
            ]
          },
          "metadata": {
            "needs_background": "light"
          },
          "output_type": "display_data"
        }
      ]
    },
    {
      "cell_type": "markdown",
      "metadata": {
        "id": "rv4-0xbKKD0w"
      },
      "source": [
        "#### <a id = \"7\"> 4-3. Random Forests with Oversampling</a>"
      ]
    },
    {
      "cell_type": "markdown",
      "metadata": {
        "id": "kAwZEwKxINcb"
      },
      "source": [
        "##### SMOTE"
      ]
    },
    {
      "cell_type": "code",
      "metadata": {
        "colab": {
          "base_uri": "https://localhost:8080/"
        },
        "id": "2tLKk46-d9iu",
        "outputId": "67d38fd9-23be-42c0-b2f0-83a137d9485d"
      },
      "source": [
        "## original class distribution\n",
        "np.bincount(y_train)"
      ],
      "execution_count": 57,
      "outputs": [
        {
          "output_type": "execute_result",
          "data": {
            "text/plain": [
              "array([270568,  73904])"
            ]
          },
          "metadata": {},
          "execution_count": 57
        }
      ]
    },
    {
      "cell_type": "code",
      "metadata": {
        "id": "LDWEbfzEd9iu"
      },
      "source": [
        "smote = SMOTE(random_state=924)\n",
        "\n",
        "X_train, X_test, y_train, y_test = train_test_split(X, y, random_state=924)\n",
        "\n",
        "X_train_eng = feature_eng_rf(X_train)\n",
        "X_resampled, y_resampled = smote.fit_resample(X_train_eng, y_train)"
      ],
      "execution_count": null,
      "outputs": []
    },
    {
      "cell_type": "code",
      "metadata": {
        "id": "85gpXZAyd9iu",
        "outputId": "b4363e21-3f09-4bd9-8ccf-dd2f5dddccd1"
      },
      "source": [
        "## resampled class distribution\n",
        "np.bincount(y_resampled)"
      ],
      "execution_count": null,
      "outputs": [
        {
          "data": {
            "text/plain": [
              "array([270568, 270568], dtype=int64)"
            ]
          },
          "execution_count": 102,
          "metadata": {},
          "output_type": "execute_result"
        }
      ]
    },
    {
      "cell_type": "code",
      "metadata": {
        "id": "pEHprqmEd9iu",
        "outputId": "39fc219b-3993-4abd-cdfe-3204be9f8103"
      },
      "source": [
        "rf_smote = RandomForestClassifier(n_estimators=200, min_samples_leaf=2, min_samples_split=5)\n",
        "rf_smote.fit(X_resampled, y_resampled)\n",
        "print(rf_smote.score(X_resampled, y_resampled))\n",
        "\n",
        "\n",
        "X_test_eng = feature_eng_rf(X_test)\n",
        "smote_pred = rf_smote.predict(X_test_eng)\n",
        "\n",
        "print(classification_report(y_test, smote_pred))\n",
        "\n",
        "produce_confusion(1, 0, smote_pred, y_test)"
      ],
      "execution_count": null,
      "outputs": [
        {
          "name": "stdout",
          "output_type": "stream",
          "text": [
            "0.9759616806126371\n",
            "              precision    recall  f1-score   support\n",
            "\n",
            "           0       0.96      0.95      0.95     90194\n",
            "           1       0.82      0.85      0.84     24631\n",
            "\n",
            "    accuracy                           0.93    114825\n",
            "   macro avg       0.89      0.90      0.90    114825\n",
            "weighted avg       0.93      0.93      0.93    114825\n",
            "\n"
          ]
        },
        {
          "data": {
            "image/png": "[encoded data removed]",
            "text/plain": [
              "<Figure size 432x288 with 2 Axes>"
            ]
          },
          "metadata": {
            "needs_background": "light"
          },
          "output_type": "display_data"
        }
      ]
    },
    {
      "cell_type": "code",
      "metadata": {
        "id": "WHJ5Du4Id9iv",
        "outputId": "bc5b7e45-8786-48ef-8acb-6d0e18330c62"
      },
      "source": [
        "y_score_smote = rf_smote.predict_proba(X_test_eng)[:,1]\n",
        "\n",
        "fp_sm, tp_sm, thresh_sm = roc_curve(y_test, y_score_smote)\n",
        "print(f'roc_auc_score for random forests: {roc_auc_score(y_test, y_score_smote)}')"
      ],
      "execution_count": null,
      "outputs": [
        {
          "name": "stdout",
          "output_type": "stream",
          "text": [
            "roc_auc_score for random forests: 0.9679182576368768\n"
          ]
        }
      ]
    },
    {
      "cell_type": "code",
      "metadata": {
        "id": "c_v817l4d9iv",
        "outputId": "f0f3d8bb-3ae0-4c34-b924-1afa70e21656"
      },
      "source": [
        "plt.plot(fp_sm, tp_sm, label=f'AUC Random Forests: {round(roc_auc_score(y_test,y_score_smote),3)}')\n",
        "plt.plot([0,1],[0,1],'r--')\n",
        "plt.xlim([0,1])\n",
        "plt.ylim([0,1])\n",
        "plt.title('ROC Random Forests with SMOTE')\n",
        "plt.ylabel('True Positive Rate')\n",
        "plt.xlabel('False Positive Rate')\n",
        "plt.fill_between(fp_sm, tp_sm, 0, facecolor='azure', alpha=1)\n",
        "plt.legend(loc='lower right')\n",
        "plt.show()"
      ],
      "execution_count": null,
      "outputs": [
        {
          "data": {
            "image/png": "[encoded data removed]",
            "text/plain": [
              "<Figure size 432x288 with 1 Axes>"
            ]
          },
          "metadata": {
            "needs_background": "light"
          },
          "output_type": "display_data"
        }
      ]
    },
    {
      "cell_type": "markdown",
      "metadata": {
        "id": "oHJPONHOISM6"
      },
      "source": [
        "##### SMOTEENN"
      ]
    },
    {
      "cell_type": "code",
      "metadata": {
        "colab": {
          "base_uri": "https://localhost:8080/"
        },
        "id": "9qDku8pod9iv",
        "outputId": "713876e9-5f64-4459-bfa1-b2877575230e"
      },
      "source": [
        "X_train, X_test, y_train, y_test = train_test_split(X, y, random_state=924)\n",
        "print(f'before: {np.bincount(y_train)}')\n",
        "\n",
        "smote_enn = SMOTEENN(random_state=924)\n",
        "\n",
        "X_train_eng = feature_eng_rf(X_train)\n",
        "X_res, y_res = smote_enn.fit_resample(X_train_eng, y_train)\n",
        "\n",
        "print(f'after: {np.bincount(y_res)}')"
      ],
      "execution_count": 58,
      "outputs": [
        {
          "output_type": "stream",
          "name": "stdout",
          "text": [
            "before: [270568  73904]\n"
          ]
        },
        {
          "output_type": "stream",
          "name": "stderr",
          "text": [
            "/usr/local/lib/python3.7/dist-packages/sklearn/utils/deprecation.py:87: FutureWarning: Function safe_indexing is deprecated; safe_indexing is deprecated in version 0.22 and will be removed in version 0.24.\n",
            "  warnings.warn(msg, category=FutureWarning)\n",
            "/usr/local/lib/python3.7/dist-packages/sklearn/utils/deprecation.py:87: FutureWarning: Function safe_indexing is deprecated; safe_indexing is deprecated in version 0.22 and will be removed in version 0.24.\n",
            "  warnings.warn(msg, category=FutureWarning)\n",
            "/usr/local/lib/python3.7/dist-packages/sklearn/utils/deprecation.py:87: FutureWarning: Function safe_indexing is deprecated; safe_indexing is deprecated in version 0.22 and will be removed in version 0.24.\n",
            "  warnings.warn(msg, category=FutureWarning)\n"
          ]
        },
        {
          "output_type": "stream",
          "name": "stdout",
          "text": [
            "after: [217982 240579]\n"
          ]
        },
        {
          "output_type": "stream",
          "name": "stderr",
          "text": [
            "/usr/local/lib/python3.7/dist-packages/sklearn/utils/deprecation.py:87: FutureWarning: Function safe_indexing is deprecated; safe_indexing is deprecated in version 0.22 and will be removed in version 0.24.\n",
            "  warnings.warn(msg, category=FutureWarning)\n"
          ]
        }
      ]
    },
    {
      "cell_type": "code",
      "metadata": {
        "colab": {
          "base_uri": "https://localhost:8080/",
          "height": 472
        },
        "id": "JnL9OdlMd9iw",
        "outputId": "4724c6a8-37ad-46c1-fc75-8b0ebdcb0f09"
      },
      "source": [
        "rf_smote_enn = RandomForestClassifier(n_estimators=200, min_samples_leaf=2, min_samples_split=5)\n",
        "rf_smote_enn.fit(X_res, y_res)\n",
        "print(rf_smote_enn.score(X_res, y_res))\n",
        "\n",
        "\n",
        "X_test_eng = feature_eng_rf(X_test)\n",
        "smote_enn_pred = rf_smote_enn.predict(X_test_eng)\n",
        "\n",
        "print(classification_report(y_test, smote_enn_pred))\n",
        "\n",
        "produce_confusion(1, 0, smote_enn_pred, y_test)"
      ],
      "execution_count": 59,
      "outputs": [
        {
          "output_type": "stream",
          "name": "stdout",
          "text": [
            "0.9934447107364124\n",
            "              precision    recall  f1-score   support\n",
            "\n",
            "           0       0.96      0.94      0.95     90194\n",
            "           1       0.79      0.87      0.83     24631\n",
            "\n",
            "    accuracy                           0.92    114825\n",
            "   macro avg       0.88      0.91      0.89    114825\n",
            "weighted avg       0.93      0.92      0.93    114825\n",
            "\n"
          ]
        },
        {
          "output_type": "display_data",
          "data": {
            "image/png": "[encoded data removed]",
            "text/plain": [
              "<Figure size 432x288 with 2 Axes>"
            ]
          },
          "metadata": {
            "needs_background": "light"
          }
        }
      ]
    },
    {
      "cell_type": "code",
      "metadata": {
        "colab": {
          "base_uri": "https://localhost:8080/"
        },
        "id": "ibcwCeJQd9iw",
        "outputId": "ff064cae-af96-4180-a7b2-9b87d35b31cc"
      },
      "source": [
        "y_score_smote_enn = rf_smote_enn.predict_proba(X_test_eng)[:,1]\n",
        "\n",
        "fp_sm_e, tp_sm_e, thresh_sm_e = roc_curve(y_test, y_score_smote_enn)\n",
        "print(f'roc_auc_score for random forests: {roc_auc_score(y_test, y_score_smote_enn)}')"
      ],
      "execution_count": 60,
      "outputs": [
        {
          "output_type": "stream",
          "name": "stdout",
          "text": [
            "roc_auc_score for random forests: 0.964606464511968\n"
          ]
        }
      ]
    },
    {
      "cell_type": "code",
      "metadata": {
        "colab": {
          "base_uri": "https://localhost:8080/",
          "height": 295
        },
        "id": "u9MOonl5d9iw",
        "outputId": "3af82046-b1e7-411d-f2a0-7560a9dae446"
      },
      "source": [
        "plt.plot(fp_sm_e, tp_sm_e, label=f'AUC Random Forests: {round(roc_auc_score(y_test,y_score_smote_enn),3)}')\n",
        "plt.plot([0,1],[0,1],'r--')\n",
        "plt.xlim([0,1])\n",
        "plt.ylim([0,1])\n",
        "plt.title('ROC Random Forests with SMOTEENN')\n",
        "plt.ylabel('True Positive Rate')\n",
        "plt.xlabel('False Positive Rate')\n",
        "plt.fill_between(fp_sm_e, tp_sm_e, 0, facecolor='azure', alpha=1)\n",
        "plt.legend(loc='lower right')\n",
        "plt.show()"
      ],
      "execution_count": 61,
      "outputs": [
        {
          "output_type": "display_data",
          "data": {
            "image/png": "[encoded data removed]",
            "text/plain": [
              "<Figure size 432x288 with 1 Axes>"
            ]
          },
          "metadata": {
            "needs_background": "light"
          }
        }
      ]
    },
    {
      "cell_type": "markdown",
      "metadata": {
        "id": "NAi8zf8OTFWF"
      },
      "source": [
        "##### Borderline SMOTE"
      ]
    },
    {
      "cell_type": "code",
      "metadata": {
        "colab": {
          "base_uri": "https://localhost:8080/"
        },
        "id": "h5HzGt_ORRa2",
        "outputId": "ebb6481a-9214-42af-dd0a-90b6b6545022"
      },
      "source": [
        "X_train, X_test, y_train, y_test = train_test_split(X, y, random_state=924)\n",
        "print(f'before: {np.bincount(y_train)}')\n",
        "\n",
        "borderline = BorderlineSMOTE(random_state=924)\n",
        "\n",
        "X_train_eng = feature_eng_rf(X_train)\n",
        "X_re, y_re = borderline.fit_resample(X_train_eng, y_train)\n",
        "\n",
        "print(f'after: {np.bincount(y_re)}')"
      ],
      "execution_count": 63,
      "outputs": [
        {
          "output_type": "stream",
          "name": "stdout",
          "text": [
            "before: [270568  73904]\n"
          ]
        },
        {
          "output_type": "stream",
          "name": "stderr",
          "text": [
            "/usr/local/lib/python3.7/dist-packages/sklearn/utils/deprecation.py:87: FutureWarning: Function safe_indexing is deprecated; safe_indexing is deprecated in version 0.22 and will be removed in version 0.24.\n",
            "  warnings.warn(msg, category=FutureWarning)\n",
            "/usr/local/lib/python3.7/dist-packages/sklearn/utils/deprecation.py:87: FutureWarning: Function safe_indexing is deprecated; safe_indexing is deprecated in version 0.22 and will be removed in version 0.24.\n",
            "  warnings.warn(msg, category=FutureWarning)\n",
            "/usr/local/lib/python3.7/dist-packages/sklearn/utils/deprecation.py:87: FutureWarning: Function safe_indexing is deprecated; safe_indexing is deprecated in version 0.22 and will be removed in version 0.24.\n",
            "  warnings.warn(msg, category=FutureWarning)\n"
          ]
        },
        {
          "output_type": "stream",
          "name": "stdout",
          "text": [
            "after: [270568 270568]\n"
          ]
        }
      ]
    },
    {
      "cell_type": "code",
      "metadata": {
        "colab": {
          "base_uri": "https://localhost:8080/",
          "height": 472
        },
        "id": "Mppl9XJfRRRe",
        "outputId": "da45aadd-3e18-44d5-85c9-d1655340e4bf"
      },
      "source": [
        "rf_border = RandomForestClassifier(n_estimators=200, min_samples_leaf=2, min_samples_split=5)\n",
        "rf_border.fit(X_re, y_re)\n",
        "print(rf_border.score(X_re, y_re))\n",
        "\n",
        "\n",
        "X_test_eng = feature_eng_rf(X_test)\n",
        "border_pred = rf_border.predict(X_test_eng)\n",
        "\n",
        "print(classification_report(y_test, border_pred))\n",
        "\n",
        "produce_confusion(1, 0, border_pred, y_test)"
      ],
      "execution_count": 64,
      "outputs": [
        {
          "output_type": "stream",
          "name": "stdout",
          "text": [
            "0.9805076727477011\n",
            "              precision    recall  f1-score   support\n",
            "\n",
            "           0       0.95      0.96      0.96     90194\n",
            "           1       0.86      0.83      0.84     24631\n",
            "\n",
            "    accuracy                           0.93    114825\n",
            "   macro avg       0.91      0.90      0.90    114825\n",
            "weighted avg       0.93      0.93      0.93    114825\n",
            "\n"
          ]
        },
        {
          "output_type": "display_data",
          "data": {
            "image/png": "[encoded data removed]",
            "text/plain": [
              "<Figure size 432x288 with 2 Axes>"
            ]
          },
          "metadata": {
            "needs_background": "light"
          }
        }
      ]
    },
    {
      "cell_type": "code",
      "metadata": {
        "colab": {
          "base_uri": "https://localhost:8080/"
        },
        "id": "cj-pUPwtljCB",
        "outputId": "081fe3a0-3a62-45dd-e5e7-dc8832eea6af"
      },
      "source": [
        "y_score_border = rf_border.predict_proba(X_test_eng)[:,1]\n",
        "\n",
        "fp_bsm, tp_bsm, thresh_bsm = roc_curve(y_test, y_score_border)\n",
        "print(f'roc_auc_score for random forests: {roc_auc_score(y_test, y_score_border)}')"
      ],
      "execution_count": 66,
      "outputs": [
        {
          "output_type": "stream",
          "name": "stdout",
          "text": [
            "roc_auc_score for random forests: 0.9704727004639525\n"
          ]
        }
      ]
    },
    {
      "cell_type": "markdown",
      "metadata": {
        "id": "lM8c0PmZO1tD"
      },
      "source": [
        "#### <a id = \"8\"> 4-4. Random Forests with Undersampling</a>"
      ]
    },
    {
      "cell_type": "code",
      "metadata": {
        "colab": {
          "base_uri": "https://localhost:8080/"
        },
        "id": "oKUA-vA8MpgJ",
        "outputId": "bddc4599-50fe-4257-e52d-29a4aa4825b1"
      },
      "source": [
        "X_train, X_test, y_train, y_test = train_test_split(X, y, random_state=924)\n",
        "print(f'before: {np.bincount(y_train)}')\n",
        "\n",
        "tomek = TomekLinks(random_state=924)\n",
        "\n",
        "X_train_eng = feature_eng_rf(X_train)\n",
        "X_resa, y_resa = tomek.fit_resample(X_train_eng, y_train)\n",
        "\n",
        "print(f'after: {np.bincount(y_resa)}')"
      ],
      "execution_count": 65,
      "outputs": [
        {
          "output_type": "stream",
          "name": "stdout",
          "text": [
            "before: [270568  73904]\n",
            "after: [262275  73904]\n"
          ]
        },
        {
          "output_type": "stream",
          "name": "stderr",
          "text": [
            "/usr/local/lib/python3.7/dist-packages/sklearn/utils/deprecation.py:87: FutureWarning: Function safe_indexing is deprecated; safe_indexing is deprecated in version 0.22 and will be removed in version 0.24.\n",
            "  warnings.warn(msg, category=FutureWarning)\n"
          ]
        }
      ]
    },
    {
      "cell_type": "code",
      "metadata": {
        "colab": {
          "base_uri": "https://localhost:8080/",
          "height": 472
        },
        "id": "zLfdMoZsNPf3",
        "outputId": "3b60ade2-1857-4bd0-c7fe-87305c7a4df7"
      },
      "source": [
        "rf_tomek = RandomForestClassifier(n_estimators=200, min_samples_leaf=2, min_samples_split=5)\n",
        "rf_tomek.fit(X_resa, y_resa)\n",
        "print(rf_tomek.score(X_resa, y_resa))\n",
        "\n",
        "\n",
        "X_test_eng = feature_eng_rf(X_test)\n",
        "tomek_pred = rf_tomek.predict(X_test_eng)\n",
        "\n",
        "print(classification_report(y_test, tomek_pred))\n",
        "\n",
        "produce_confusion(1, 0, tomek_pred, y_test)"
      ],
      "execution_count": 67,
      "outputs": [
        {
          "output_type": "stream",
          "name": "stdout",
          "text": [
            "0.9700903387778534\n",
            "              precision    recall  f1-score   support\n",
            "\n",
            "           0       0.95      0.96      0.96     90194\n",
            "           1       0.86      0.83      0.84     24631\n",
            "\n",
            "    accuracy                           0.93    114825\n",
            "   macro avg       0.91      0.90      0.90    114825\n",
            "weighted avg       0.93      0.93      0.93    114825\n",
            "\n"
          ]
        },
        {
          "output_type": "display_data",
          "data": {
            "image/png": "[encoded data removed]",
            "text/plain": [
              "<Figure size 432x288 with 2 Axes>"
            ]
          },
          "metadata": {
            "needs_background": "light"
          }
        }
      ]
    },
    {
      "cell_type": "markdown",
      "metadata": {
        "id": "fRZjeJZOd9i0"
      },
      "source": [
        "### <a id = \"9\"> 5. Save the Best Model</a>"
      ]
    },
    {
      "cell_type": "code",
      "metadata": {
        "id": "Q1uKihiNNt-r"
      },
      "source": [
        "import pickle\n",
        "with open('rf_smote_enn.pkl', 'wb') as f:\n",
        "    pickle.dump(rf_smote_enn, f)"
      ],
      "execution_count": 68,
      "outputs": []
    },
    {
      "cell_type": "code",
      "metadata": {
        "id": "Q_NM4TMims8u"
      },
      "source": [
        ""
      ],
      "execution_count": null,
      "outputs": []
    }
  ]
}